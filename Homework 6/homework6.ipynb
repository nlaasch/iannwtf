{
 "cells": [
  {
   "cell_type": "markdown",
   "metadata": {},
   "source": [
    "# Homework 5 - Group 25\n",
    "## Fabio Klinge, Tom Pieper & Niklas Laasch"
   ]
  },
  {
   "cell_type": "markdown",
   "metadata": {},
   "source": [
    "# What needs to be done #\n",
    "\n",
    "1. Turn data into tensor (atm tuple) to apply preprocess()\n",
    "2. Change the DenseBlock class in a way you can  alter the number\n",
    "of Dense Blocks you want to use\n",
    "3. Change the training part to fit both models\n",
    "4. Plot this bitch\n"
   ]
  },
  {
   "cell_type": "markdown",
   "metadata": {},
   "source": [
    "# Imports"
   ]
  },
  {
   "cell_type": "code",
   "execution_count": 1,
   "metadata": {},
   "outputs": [],
   "source": [
    "# Tensorflow Imports\n",
    "import tensorflow as tf\n",
    "import tensorflow_datasets as tfds\n",
    "from tensorflow.keras.layers import Conv2D\n",
    "from tensorflow.keras.layers import BatchNormalization\n",
    "from tensorflow.keras.layers import AveragePooling2D\n",
    "from tensorflow.keras.layers import GlobalAveragePooling2D\n",
    "from tensorflow.keras.layers import Dense\n",
    "\n",
    "\n",
    "\n",
    "# Data Preparation Imports\n",
    "import numpy as np\n",
    "\n",
    "\n",
    "import time\n",
    "\n",
    "\n",
    "# Multiprocessing Import\n",
    "import multiprocessing as mp\n",
    "\n",
    "from tqdm import tqdm"
   ]
  },
  {
   "cell_type": "code",
   "execution_count": 2,
   "metadata": {},
   "outputs": [],
   "source": [
    "# Hyperparameters\n",
    "VERBOSE = True\n",
    "SHUFFLE_SIZE = 1000\n",
    "BATCH_SIZE = 64\n",
    "PREFETCH_SIZE = 128\n",
    "BUFFER_SIZE = 256"
   ]
  },
  {
   "cell_type": "markdown",
   "metadata": {},
   "source": [
    "# Load Data"
   ]
  },
  {
   "cell_type": "code",
   "execution_count": 3,
   "metadata": {},
   "outputs": [],
   "source": [
    "#train_ds, test_ds  = tf.keras.datasets.cifar10.load_data()\n",
    "train_ds, test_ds = tfds.load('cifar10', split=['train','test'], as_supervised=True)"
   ]
  },
  {
   "cell_type": "markdown",
   "metadata": {},
   "source": [
    "# Prepare data"
   ]
  },
  {
   "cell_type": "code",
   "execution_count": 4,
   "metadata": {},
   "outputs": [],
   "source": [
    "#i= 0:samples/labels 1:array containing 32 arrays 2:each 32 entries 3:1 arr each 3 integers (channels)\n",
    "#print(train_ds[0][10000])\n",
    "\n",
    "# train_images, train_labels = train_ds\n",
    "# test_images, test_labels = test_ds\n"
   ]
  },
  {
   "cell_type": "markdown",
   "metadata": {},
   "source": [
    "# Data Pipeline"
   ]
  },
  {
   "cell_type": "code",
   "execution_count": 5,
   "metadata": {},
   "outputs": [],
   "source": [
    "def preprocess(data):\n",
    "    # Cast Image pixel values as floats\n",
    "    data = data.map(lambda img, target: (tf.cast(img, tf.float32), target))\n",
    "    # Normalize pixel values\n",
    "    data = data.map(lambda img, target: ((img/128 - 1), target))\n",
    "    # Apply OneHot to picture labels\n",
    "    data = data.map(lambda img, target: (img, tf.one_hot(target, 10)))\n",
    "    # Shuffle, batch and prefetch\n",
    "    data = data.shuffle(SHUFFLE_SIZE).batch(BATCH_SIZE).prefetch(PREFETCH_SIZE)\n",
    "    return data\n",
    "    "
   ]
  },
  {
   "cell_type": "markdown",
   "metadata": {},
   "source": [
    "DONT WORK YET - by now data is saved as tuple but needs to become tensor"
   ]
  },
  {
   "cell_type": "code",
   "execution_count": 6,
   "metadata": {},
   "outputs": [],
   "source": [
    "\n",
    "\n",
    "#train_ds = tf.data.Dataset.from_tensor_slices(train_ds).apply(preprocess)\n",
    "#test_ds = tf.data.Dataset.from_tensor_slices(test_ds).apply(preprocess)\n",
    "\n",
    "train_ds = preprocess(train_ds)\n",
    "test_ds = preprocess(test_ds)"
   ]
  },
  {
   "cell_type": "markdown",
   "metadata": {},
   "source": [
    "# Layers:\n",
    "---\n",
    "\n",
    "## Feature Learning:\n",
    "---\n",
    "Convolution + Relu\n",
    "\n",
    "Pooling\n",
    "\n",
    "Convolution + Relu\n",
    "\n",
    "Pooling\n",
    "\n",
    "---\n",
    "\n",
    "## Classification:\n",
    "---\n",
    "Flatten\n",
    "\n",
    "Fully Connected\n",
    "\n",
    "Softmax\n",
    "\n",
    "---\n"
   ]
  },
  {
   "cell_type": "markdown",
   "metadata": {},
   "source": [
    "# Model"
   ]
  },
  {
   "cell_type": "code",
   "execution_count": 7,
   "metadata": {},
   "outputs": [],
   "source": [
    "# Residual Block with 3 convolutional layers\n",
    "class ResidualBlock(tf.keras.Model):\n",
    "\n",
    "    def __init__(self):\n",
    "        super(ResidualBlock, self).__init__()\n",
    "        self.BatchNorm_1 = BatchNormalization()\n",
    "        self.conv_1 = Conv2D(filters=16, kernel_size=3, padding=\"same\", activation=\"relu\")\n",
    "        self.BatchNorm_2 = BatchNormalization()\n",
    "        self.conv_2 = Conv2D(filters=24, kernel_size=3, padding=\"same\", activation=\"relu\")\n",
    "        self.BatchNorm_3 = BatchNormalization()\n",
    "        self.conv_3 = Conv2D(filters=32, kernel_size=3, padding=\"same\", activation=\"relu\")\n",
    "\n",
    "    def call(self, inputs):\n",
    "        y = self.BatchNorm_1(inputs)\n",
    "        y = self.conv_1(y)\n",
    "        y = self.BatchNorm_2(y)\n",
    "        y = self.conv_2(y)\n",
    "        y = self.BatchNorm_3(y)\n",
    "        y = self.conv_3(y)\n",
    "\n",
    "        return y + inputs\n",
    "\n"
   ]
  },
  {
   "cell_type": "code",
   "execution_count": 8,
   "metadata": {},
   "outputs": [],
   "source": [
    "# Residual Network with 2 Residual blocks\n",
    "class ResNet(tf.keras.Model):\n",
    "    \n",
    "    # \n",
    "    def __init__(self):\n",
    "        super(ResNet, self).__init__()\n",
    "        self.conv_layer = Conv2D(filters=32, kernel_size=3, padding= \"same\", activation=\"relu\")\n",
    "        self.res_block_1 = ResidualBlock()\n",
    "        self.res_block_2 = ResidualBlock()\n",
    "        #dense_layer here\n",
    "        self.global_pool = GlobalAveragePooling2D()\n",
    "        self.out = Dense(10, activation = 'softmax')\n",
    "\n",
    "    \n",
    "    # cast the call-function as tf.function to increase efficiency\n",
    "    @tf.function\n",
    "    # pass the input through the layers of the network and return the output\n",
    "    def call(self, inputs):\n",
    "        x = self.conv_layer(inputs)\n",
    "        x = self.res_block_1.call(x)\n",
    "        x = self.res_block_2.call(x)\n",
    "        x = self.global_pool(x)\n",
    "        x = self.out(x)\n",
    "        return x"
   ]
  },
  {
   "cell_type": "code",
   "execution_count": 9,
   "metadata": {},
   "outputs": [],
   "source": [
    "# Transition Layer works as Bottleneck layer\n",
    "class TransitionLayer(tf.keras.Model):\n",
    "\n",
    "    def __init__(self):\n",
    "        super(TransitionLayer, self).__init__()\n",
    "        # Adjust filter size\n",
    "        self.BatchNorm_1 = BatchNormalization()\n",
    "        self.conv_layer = Conv2D(filters=16, strides=2, kernel_size=1, activation=\"relu\", )\n",
    "        self.pool_layer = AveragePooling2D(pool_size=2, strides=2)\n",
    "        #self.BatchNorm_2 = BatchNormalization()\n",
    "\n",
    "    \n",
    "    # cast the call-function as tf.function to increase efficiency\n",
    "    @tf.function\n",
    "    # pass the input through the layers of the network and return the output\n",
    "    def call(self, inputs):\n",
    "        x = self.BatchNorm_1(inputs)\n",
    "        x = self.conv_layer(x)\n",
    "        x = self.pool_layer(x)\n",
    "        #x = self.BatchNorm_2(x)\n",
    "        return x"
   ]
  },
  {
   "cell_type": "code",
   "execution_count": 10,
   "metadata": {},
   "outputs": [],
   "source": [
    "# Denseblock works as dense block for dense net\n",
    "class DenseBlock(tf.keras.Model):\n",
    "\n",
    "\n",
    "    def __init__(self, filteramount):\n",
    "        super(DenseBlock, self).__init__()\n",
    "        self.BatchNorm_1 = BatchNormalization()\n",
    "        self.conv_1 = Conv2D(filters=filteramount, kernel_size=3, padding=\"same\", activation=\"relu\")\n",
    "        self.BatchNorm_2 = BatchNormalization()\n",
    "        self.conv_2 = Conv2D(filters=filteramount, kernel_size=3, padding=\"same\", activation=\"relu\")\n",
    "\n",
    "    def call(self, inputs):\n",
    "        y = self.BatchNorm_1(inputs)\n",
    "        y = self.conv_1(y)\n",
    "        y = self.BatchNorm_2(y)\n",
    "        y = self.conv_2(y)\n",
    "\n",
    "        return tf.keras.layers.Concatenate()([y, inputs])\n"
   ]
  },
  {
   "cell_type": "code",
   "execution_count": 11,
   "metadata": {},
   "outputs": [],
   "source": [
    "# Dense Net Model. with 2 Dense Blocks\n",
    "class DenseNet(tf.keras.Model):\n",
    "\n",
    "    # \n",
    "    def __init__(self):\n",
    "        super(DenseNet, self).__init__()\n",
    "        self.conv_l = Conv2D(filters=32, kernel_size=3, padding= \"same\", activation=\"relu\")\n",
    "        self.dense_block_1 = DenseBlock(filteramount = 32)\n",
    "        self.transition_layer_1 = TransitionLayer()\n",
    "        self.dense_block_2 = DenseBlock(filteramount = 16)\n",
    "        self.transition_layer_2 = TransitionLayer()\n",
    "        self.BatchNorm_1 = BatchNormalization()\n",
    "        self.conv_2 = Conv2D(filters=32, kernel_size=3, padding= \"same\", activation=\"relu\")\n",
    "        self.global_pool = GlobalAveragePooling2D()\n",
    "        self.out = Dense(10, activation = 'softmax')\n",
    "\n",
    "\n",
    "    # cast the call-function as tf.function to increase efficiency\n",
    "    @tf.function\n",
    "    # pass the input through the layers of the network and return the output\n",
    "    def call(self, inputs):\n",
    "        x = self.conv_l(inputs)\n",
    "        x = self.dense_block_1 (x)\n",
    "        x = self.transition_layer_1(x)\n",
    "        x = self.dense_block_2 (x)\n",
    "        x = self.transition_layer_2(x)\n",
    "        x = self.BatchNorm_1(x)\n",
    "        x = self.global_pool(x)\n",
    "        x = self.out(x)\n",
    "        return x"
   ]
  },
  {
   "cell_type": "code",
   "execution_count": 12,
   "metadata": {},
   "outputs": [],
   "source": [
    "tf.keras.backend.clear_session()"
   ]
  },
  {
   "cell_type": "markdown",
   "metadata": {},
   "source": [
    "# Training"
   ]
  },
  {
   "cell_type": "markdown",
   "metadata": {},
   "source": [
    "## Train step & test"
   ]
  },
  {
   "cell_type": "code",
   "execution_count": 13,
   "metadata": {},
   "outputs": [],
   "source": [
    "# compute the loss of an input for the model and optimize/tweak according the parameters\n",
    "def train_step(model, input, target, loss_function, optimizer):\n",
    "    # use tf.gradientTape to compute loss, then gradients and apply these to the model to modify the parameters\n",
    "    with tf.GradientTape() as tape:\n",
    "        prediction = model(input)\n",
    "        loss = loss_function(target, prediction)\n",
    "        gradients = tape.gradient(loss, model.trainable_variables)\n",
    "    optimizer.apply_gradients(zip(gradients, model.trainable_variables))\n",
    "    return loss\n",
    "\n",
    "\n",
    "# compute the differences between or model prediction and the label, -> Supervision\n",
    "def test(model, test_data, loss_function):\n",
    "  # test over complete test data\n",
    "  test_accuracy_aggregator = []\n",
    "  test_loss_aggregator = []\n",
    "\n",
    "  for (input, target) in test_data:\n",
    "\n",
    "    prediction = model(input)\n",
    "    \n",
    "    sample_test_loss = loss_function(target, prediction)\n",
    "    sample_test_accuracy =  np.argmax(target, axis=1) == np.argmax(prediction, axis=1)\n",
    "    \n",
    "    sample_test_accuracy = np.mean(sample_test_accuracy)\n",
    "    test_loss_aggregator.append(sample_test_loss.numpy())\n",
    "    test_accuracy_aggregator.append(np.mean(sample_test_accuracy))\n",
    "    \n",
    "# for all input and computed losses get the mean of accuracy and loss and return them\n",
    "  test_loss = tf.reduce_mean(test_loss_aggregator)\n",
    "  test_accuracy = tf.reduce_mean(test_accuracy_aggregator)\n",
    "\n",
    "  return test_loss, test_accuracy"
   ]
  },
  {
   "cell_type": "markdown",
   "metadata": {},
   "source": [
    "## Training"
   ]
  },
  {
   "cell_type": "code",
   "execution_count": 14,
   "metadata": {},
   "outputs": [
    {
     "name": "stdout",
     "output_type": "stream",
     "text": [
      "Starting Training ResNet: \n",
      "Epoch: 0 starting with accuracy tf.Tensor(0.10270700636942676, shape=(), dtype=float64)\n"
     ]
    },
    {
     "name": "stderr",
     "output_type": "stream",
     "text": [
      "100%|██████████| 782/782 [00:13<00:00, 56.60it/s]\n"
     ]
    },
    {
     "name": "stdout",
     "output_type": "stream",
     "text": [
      "Took: 14.513080835342407\n",
      "Epoch: 1 starting with accuracy tf.Tensor(0.3837579617834395, shape=(), dtype=float64)\n"
     ]
    },
    {
     "name": "stderr",
     "output_type": "stream",
     "text": [
      "100%|██████████| 782/782 [00:13<00:00, 59.58it/s]\n"
     ]
    },
    {
     "name": "stdout",
     "output_type": "stream",
     "text": [
      "Took: 13.81011438369751\n",
      "Epoch: 2 starting with accuracy tf.Tensor(0.47701035031847133, shape=(), dtype=float64)\n"
     ]
    },
    {
     "name": "stderr",
     "output_type": "stream",
     "text": [
      "100%|██████████| 782/782 [00:13<00:00, 59.53it/s]\n"
     ]
    },
    {
     "name": "stdout",
     "output_type": "stream",
     "text": [
      "Took: 13.820789813995361\n",
      "Epoch: 3 starting with accuracy tf.Tensor(0.511843152866242, shape=(), dtype=float64)\n"
     ]
    },
    {
     "name": "stderr",
     "output_type": "stream",
     "text": [
      "100%|██████████| 782/782 [00:12<00:00, 61.32it/s]\n"
     ]
    },
    {
     "name": "stdout",
     "output_type": "stream",
     "text": [
      "Took: 13.378622055053711\n",
      "Epoch: 4 starting with accuracy tf.Tensor(0.5727507961783439, shape=(), dtype=float64)\n"
     ]
    },
    {
     "name": "stderr",
     "output_type": "stream",
     "text": [
      "100%|██████████| 782/782 [00:12<00:00, 64.19it/s]\n"
     ]
    },
    {
     "name": "stdout",
     "output_type": "stream",
     "text": [
      "Took: 12.817049741744995\n",
      "Epoch: 5 starting with accuracy tf.Tensor(0.6044984076433121, shape=(), dtype=float64)\n"
     ]
    },
    {
     "name": "stderr",
     "output_type": "stream",
     "text": [
      "100%|██████████| 782/782 [00:12<00:00, 63.73it/s]\n"
     ]
    },
    {
     "name": "stdout",
     "output_type": "stream",
     "text": [
      "Took: 12.888341903686523\n",
      "Epoch: 6 starting with accuracy tf.Tensor(0.6089769108280255, shape=(), dtype=float64)\n"
     ]
    },
    {
     "name": "stderr",
     "output_type": "stream",
     "text": [
      "100%|██████████| 782/782 [00:12<00:00, 64.82it/s]\n"
     ]
    },
    {
     "name": "stdout",
     "output_type": "stream",
     "text": [
      "Took: 12.68470311164856\n",
      "Epoch: 7 starting with accuracy tf.Tensor(0.6262937898089171, shape=(), dtype=float64)\n"
     ]
    },
    {
     "name": "stderr",
     "output_type": "stream",
     "text": [
      "100%|██████████| 782/782 [00:12<00:00, 64.98it/s]\n"
     ]
    },
    {
     "name": "stdout",
     "output_type": "stream",
     "text": [
      "Took: 12.654455423355103\n",
      "Epoch: 8 starting with accuracy tf.Tensor(0.6432125796178344, shape=(), dtype=float64)\n"
     ]
    },
    {
     "name": "stderr",
     "output_type": "stream",
     "text": [
      "100%|██████████| 782/782 [00:12<00:00, 64.87it/s]\n"
     ]
    },
    {
     "name": "stdout",
     "output_type": "stream",
     "text": [
      "Took: 12.68404483795166\n",
      "Epoch: 9 starting with accuracy tf.Tensor(0.6503781847133758, shape=(), dtype=float64)\n"
     ]
    },
    {
     "name": "stderr",
     "output_type": "stream",
     "text": [
      "100%|██████████| 782/782 [00:12<00:00, 64.39it/s]\n"
     ]
    },
    {
     "name": "stdout",
     "output_type": "stream",
     "text": [
      "Took: 12.762571811676025\n",
      "tf.Tensor(0.6381369426751592, shape=(), dtype=float64)\n",
      "Mean Time per Epoch: 13.2! With Parameters: \n",
      "Batch size: 64  Prefetch size: 128  Buffer size: 256\n"
     ]
    }
   ],
   "source": [
    "#predefine learning-rate and epochs\n",
    "num_epochs = 10\n",
    "#alpha = 0.1\n",
    "\n",
    "# create a model\n",
    "model = ResNet()\n",
    "\n",
    "# define loss-function and optimizer\n",
    "cross_entropy_loss = tf.keras.losses.CategoricalCrossentropy()\n",
    "optimizer = tf.keras.optimizers.Adam()\n",
    "\n",
    "# create empty arrays to store test/accuracy values, to track the network progress\n",
    "train_losses = []\n",
    "test_losses = []\n",
    "test_accuracies = []\n",
    "\n",
    "# get initial accuracy- and loss valus before training starts\n",
    "test_loss, test_accuracy = test(model, test_ds, cross_entropy_loss)\n",
    "test_losses.append(test_loss)\n",
    "test_accuracies.append(test_accuracy)\n",
    "\n",
    "train_loss, _ = test(model, train_ds, cross_entropy_loss)\n",
    "train_losses.append(train_loss)\n",
    "\n",
    "print(\"Starting Training ResNet: \")\n",
    "# training loop\n",
    "average_time = []\n",
    "for epoch in range(num_epochs):\n",
    "    # print accuracy of each epoch\n",
    "    pre_train_time = time.time()\n",
    "    print(f'Epoch: {str(epoch)} starting with accuracy {str(test_accuracies[-1])}')\n",
    "    \n",
    "    loss_epoch = []\n",
    "    # for all input, do a forwardstep and obtain loss\n",
    "    for input, target in tqdm(train_ds):\n",
    "        train_loss = train_step(model, input, target, cross_entropy_loss, optimizer)\n",
    "        loss_epoch.append(train_loss)\n",
    "    # get the mean loss of this epoch by using reduce_sum of TF over all input-losses and appending to the array  \n",
    "    train_losses.append(tf.reduce_mean(loss_epoch))\n",
    "    \n",
    "    # get the losses and accuracy of this epoch and store them\n",
    "    test_loss, test_accuracy = test(model, test_ds, cross_entropy_loss)\n",
    "    test_losses.append(test_loss)\n",
    "    test_accuracies.append(test_accuracy)\n",
    "\n",
    "    average_time.append(time.time() - pre_train_time)\n",
    "    print(\"Took: \" + str(time.time() - pre_train_time))\n",
    "    \n",
    "# print accuracy after 10 epochs\n",
    "print(test_accuracies[-1])\n",
    "print(\"Mean Time per Epoch: \" + str(round(np.mean(average_time), 2)) + \"! With Parameters: \")\n",
    "print(\"Batch size: \" + str(BATCH_SIZE) + \"  Prefetch size: \" + str(PREFETCH_SIZE) + \"  Buffer size: \" + str(BUFFER_SIZE))\n"
   ]
  },
  {
   "cell_type": "code",
   "execution_count": 15,
   "metadata": {},
   "outputs": [
    {
     "data": {
      "image/png": "[encoded data removed]",
      "text/plain": [
       "<Figure size 432x288 with 1 Axes>"
      ]
     },
     "metadata": {
      "needs_background": "light"
     },
     "output_type": "display_data"
    }
   ],
   "source": [
    "# Visualisation\n",
    "import matplotlib.pyplot as plt\n",
    "\n",
    "plt.figure()\n",
    "line1, = plt.plot(train_losses)\n",
    "line2, = plt.plot(test_losses)\n",
    "line3, = plt.plot(test_accuracies)\n",
    "plt.xlabel(\"Training steps\")\n",
    "plt.ylabel(\"Loss/Accuracy\")\n",
    "plt.legend((line1,line2,line3),(\"training\",\"test\", \"accuracy\"))\n",
    "plt.show()"
   ]
  },
  {
   "cell_type": "code",
   "execution_count": 16,
   "metadata": {},
   "outputs": [
    {
     "name": "stdout",
     "output_type": "stream",
     "text": [
      "Starting Training ResNet: \n",
      "Epoch: 0 starting with accuracy tf.Tensor(0.10011942675159236, shape=(), dtype=float64)\n"
     ]
    },
    {
     "name": "stderr",
     "output_type": "stream",
     "text": [
      "100%|██████████| 782/782 [00:11<00:00, 70.86it/s]\n"
     ]
    },
    {
     "name": "stdout",
     "output_type": "stream",
     "text": [
      "Took: 11.569739818572998\n",
      "Epoch: 1 starting with accuracy tf.Tensor(0.4099323248407643, shape=(), dtype=float64)\n"
     ]
    },
    {
     "name": "stderr",
     "output_type": "stream",
     "text": [
      "100%|██████████| 782/782 [00:10<00:00, 71.29it/s]\n"
     ]
    },
    {
     "name": "stdout",
     "output_type": "stream",
     "text": [
      "Took: 11.559958457946777\n",
      "Epoch: 2 starting with accuracy tf.Tensor(0.47701035031847133, shape=(), dtype=float64)\n"
     ]
    },
    {
     "name": "stderr",
     "output_type": "stream",
     "text": [
      "100%|██████████| 782/782 [00:10<00:00, 71.57it/s]\n"
     ]
    },
    {
     "name": "stdout",
     "output_type": "stream",
     "text": [
      "Took: 11.48751950263977\n",
      "Epoch: 3 starting with accuracy tf.Tensor(0.5141321656050956, shape=(), dtype=float64)\n"
     ]
    },
    {
     "name": "stderr",
     "output_type": "stream",
     "text": [
      "100%|██████████| 782/782 [00:10<00:00, 71.52it/s]\n"
     ]
    },
    {
     "name": "stdout",
     "output_type": "stream",
     "text": [
      "Took: 11.49578309059143\n",
      "Epoch: 4 starting with accuracy tf.Tensor(0.5426950636942676, shape=(), dtype=float64)\n"
     ]
    },
    {
     "name": "stderr",
     "output_type": "stream",
     "text": [
      "100%|██████████| 782/782 [00:10<00:00, 71.34it/s]\n"
     ]
    },
    {
     "name": "stdout",
     "output_type": "stream",
     "text": [
      "Took: 11.525977373123169\n",
      "Epoch: 5 starting with accuracy tf.Tensor(0.5844944267515924, shape=(), dtype=float64)\n"
     ]
    },
    {
     "name": "stderr",
     "output_type": "stream",
     "text": [
      "100%|██████████| 782/782 [00:10<00:00, 71.23it/s]\n"
     ]
    },
    {
     "name": "stdout",
     "output_type": "stream",
     "text": [
      "Took: 11.560826778411865\n",
      "Epoch: 6 starting with accuracy tf.Tensor(0.5953423566878981, shape=(), dtype=float64)\n"
     ]
    },
    {
     "name": "stderr",
     "output_type": "stream",
     "text": [
      "100%|██████████| 782/782 [00:11<00:00, 69.23it/s]\n"
     ]
    },
    {
     "name": "stdout",
     "output_type": "stream",
     "text": [
      "Took: 11.904425144195557\n",
      "Epoch: 7 starting with accuracy tf.Tensor(0.6191281847133758, shape=(), dtype=float64)\n"
     ]
    },
    {
     "name": "stderr",
     "output_type": "stream",
     "text": [
      "100%|██████████| 782/782 [00:10<00:00, 71.61it/s]\n"
     ]
    },
    {
     "name": "stdout",
     "output_type": "stream",
     "text": [
      "Took: 11.48848009109497\n",
      "Epoch: 8 starting with accuracy tf.Tensor(0.6258957006369427, shape=(), dtype=float64)\n"
     ]
    },
    {
     "name": "stderr",
     "output_type": "stream",
     "text": [
      "100%|██████████| 782/782 [00:10<00:00, 71.28it/s]\n"
     ]
    },
    {
     "name": "stdout",
     "output_type": "stream",
     "text": [
      "Took: 11.545639753341675\n",
      "Epoch: 9 starting with accuracy tf.Tensor(0.6388335987261147, shape=(), dtype=float64)\n"
     ]
    },
    {
     "name": "stderr",
     "output_type": "stream",
     "text": [
      "100%|██████████| 782/782 [00:10<00:00, 72.31it/s]\n"
     ]
    },
    {
     "name": "stdout",
     "output_type": "stream",
     "text": [
      "Took: 11.365231990814209\n",
      "tf.Tensor(0.6390326433121019, shape=(), dtype=float64)\n",
      "Mean Time per Epoch: 11.55! With Parameters: \n",
      "Batch size: 64  Prefetch size: 128  Buffer size: 256\n"
     ]
    }
   ],
   "source": [
    "#predefine learning-rate and epochs\n",
    "num_epochs = 10\n",
    "\n",
    "# create a model\n",
    "model = DenseNet()\n",
    "\n",
    "# define loss-function and optimizer\n",
    "cross_entropy_loss = tf.keras.losses.CategoricalCrossentropy()\n",
    "optimizer = tf.keras.optimizers.Adam()\n",
    "\n",
    "# create empty arrays to store test/accuracy values, to track the network progress\n",
    "train_losses = []\n",
    "test_losses = []\n",
    "test_accuracies = []\n",
    "\n",
    "# get initial accuracy- and loss valus before training starts\n",
    "test_loss, test_accuracy = test(model, test_ds, cross_entropy_loss)\n",
    "test_losses.append(test_loss)\n",
    "test_accuracies.append(test_accuracy)\n",
    "\n",
    "train_loss, _ = test(model, train_ds, cross_entropy_loss)\n",
    "train_losses.append(train_loss)\n",
    "\n",
    "print(\"Starting Training ResNet: \")\n",
    "# training loop\n",
    "average_time = []\n",
    "for epoch in range(num_epochs):\n",
    "    # print accuracy of each epoch\n",
    "    pre_train_time = time.time()\n",
    "    print(f'Epoch: {str(epoch)} starting with accuracy {str(test_accuracies[-1])}')\n",
    "    \n",
    "    loss_epoch = []\n",
    "    # for all input, do a forwardstep and obtain loss\n",
    "    for input, target in tqdm(train_ds):\n",
    "        train_loss = train_step(model, input, target, cross_entropy_loss, optimizer)\n",
    "        loss_epoch.append(train_loss)\n",
    "    # get the mean loss of this epoch by using reduce_sum of TF over all input-losses and appending to the array  \n",
    "    train_losses.append(tf.reduce_mean(loss_epoch))\n",
    "    \n",
    "    # get the losses and accuracy of this epoch and store them\n",
    "    test_loss, test_accuracy = test(model, test_ds, cross_entropy_loss)\n",
    "    test_losses.append(test_loss)\n",
    "    test_accuracies.append(test_accuracy)\n",
    "\n",
    "    average_time.append(time.time() - pre_train_time)\n",
    "    print(\"Took: \" + str(time.time() - pre_train_time))\n",
    "    \n",
    "# print accuracy after 10 epochs\n",
    "print(test_accuracies[-1])\n",
    "print(\"Mean Time per Epoch: \" + str(round(np.mean(average_time), 2)) + \"! With Parameters: \")\n",
    "print(\"Batch size: \" + str(BATCH_SIZE) + \"  Prefetch size: \" + str(PREFETCH_SIZE) + \"  Buffer size: \" + str(BUFFER_SIZE))\n",
    "\n",
    "\n",
    "          \n",
    "    "
   ]
  },
  {
   "cell_type": "markdown",
   "metadata": {},
   "source": [
    "# Visualisation"
   ]
  },
  {
   "cell_type": "code",
   "execution_count": 17,
   "metadata": {},
   "outputs": [
    {
     "data": {
      "image/png": "[encoded data removed]",
      "text/plain": [
       "<Figure size 432x288 with 1 Axes>"
      ]
     },
     "metadata": {
      "needs_background": "light"
     },
     "output_type": "display_data"
    }
   ],
   "source": [
    "# Visualisation\n",
    "import matplotlib.pyplot as plt\n",
    "\n",
    "plt.figure()\n",
    "line1, = plt.plot(train_losses)\n",
    "line2, = plt.plot(test_losses)\n",
    "line3, = plt.plot(test_accuracies)\n",
    "plt.xlabel(\"Training steps\")\n",
    "plt.ylabel(\"Loss/Accuracy\")\n",
    "plt.legend((line1,line2,line3),(\"training\",\"test\", \"accuracy\"))\n",
    "plt.show()"
   ]
  }
 ],
 "metadata": {
  "interpreter": {
   "hash": "e67c7a27c154baed0fd8f944c6e3c7d903aa3602026d8733fc96f7ebc6980442"
  },
  "kernelspec": {
   "display_name": "Python 3.9.7 64-bit ('iannwtf': conda)",
   "name": "python3"
  },
  "language_info": {
   "codemirror_mode": {
    "name": "ipython",
    "version": 3
   },
   "file_extension": ".py",
   "mimetype": "text/x-python",
   "name": "python",
   "nbconvert_exporter": "python",
   "pygments_lexer": "ipython3",
   "version": "3.9.7"
  },
  "orig_nbformat": 4
 },
 "nbformat": 4,
 "nbformat_minor": 2
}
