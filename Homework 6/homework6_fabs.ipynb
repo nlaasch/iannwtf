{
 "cells": [
  {
   "cell_type": "markdown",
   "metadata": {},
   "source": [
    "# Homework 5 - Group 25\n",
    "## Fabio Klinge, Tom Pieper & Niklas Laasch"
   ]
  },
  {
   "cell_type": "markdown",
   "metadata": {},
   "source": [
    "# What needs to be done #\n",
    "\n",
    "1. Turn data into tensor (atm tuple) to apply preprocess()\n",
    "2. Change the DenseBlock class in a way you can  alter the number\n",
    "of Dense Blocks you want to use\n",
    "3. Change the training part to fit both models\n",
    "4. Plot this bitch\n"
   ]
  },
  {
   "cell_type": "markdown",
   "metadata": {},
   "source": [
    "# Imports"
   ]
  },
  {
   "cell_type": "code",
   "execution_count": 40,
   "metadata": {},
   "outputs": [],
   "source": [
    "# Tensorflow Imports\n",
    "import tensorflow as tf\n",
    "import tensorflow_datasets as tfds\n",
    "from tensorflow.keras.layers import Conv2D\n",
    "from tensorflow.keras.layers import BatchNormalization\n",
    "from tensorflow.keras.layers import AveragePooling2D\n",
    "from tensorflow.keras.layers import GlobalAveragePooling2D\n",
    "from tensorflow.keras.layers import Dense\n",
    "\n",
    "\n",
    "\n",
    "# Data Preparation Imports\n",
    "import numpy as np\n",
    "\n",
    "\n",
    "import time\n",
    "\n",
    "\n",
    "# Multiprocessing Import\n",
    "import multiprocessing as mp"
   ]
  },
  {
   "cell_type": "code",
   "execution_count": 41,
   "metadata": {},
   "outputs": [],
   "source": [
    "# Hyperparameters\n",
    "VERBOSE = True\n",
    "SHUFFLE_SIZE = 1000\n",
    "BATCH_SIZE = 64\n",
    "PREFETCH_SIZE = 128\n",
    "BUFFER_SIZE = 256"
   ]
  },
  {
   "cell_type": "markdown",
   "metadata": {},
   "source": [
    "# Load Data"
   ]
  },
  {
   "cell_type": "code",
   "execution_count": 54,
   "metadata": {},
   "outputs": [],
   "source": [
    "#train_ds, test_ds  = tf.keras.datasets.cifar10.load_data()\n",
    "train_ds, test_ds = tfds.load('cifar10', split=['train','test'], as_supervised=True)"
   ]
  },
  {
   "cell_type": "markdown",
   "metadata": {},
   "source": [
    "# Prepare data"
   ]
  },
  {
   "cell_type": "code",
   "execution_count": 43,
   "metadata": {},
   "outputs": [],
   "source": [
    "#i= 0:samples/labels 1:array containing 32 arrays 2:each 32 entries 3:1 arr each 3 integers (channels)\n",
    "#print(train_ds[0][10000])\n",
    "\n",
    "# train_images, train_labels = train_ds\n",
    "# test_images, test_labels = test_ds\n"
   ]
  },
  {
   "cell_type": "markdown",
   "metadata": {},
   "source": [
    "# Data Pipeline"
   ]
  },
  {
   "cell_type": "code",
   "execution_count": 55,
   "metadata": {},
   "outputs": [],
   "source": [
    "def preprocess(data):\n",
    "    # Cast Image pixel values as floats\n",
    "    data = data.map(lambda img, target: (tf.cast(img, tf.float32), target))\n",
    "    # Normalize pixel values\n",
    "    data = data.map(lambda img, target: ((img/128 - 1), target))\n",
    "    # Apply OneHot to picture labels\n",
    "    data = data.map(lambda img, target: (img, tf.one_hot(target, 10)))\n",
    "    # Shuffle, batch and prefetch\n",
    "    data = data.shuffle(SHUFFLE_SIZE).batch(BATCH_SIZE).prefetch(PREFETCH_SIZE)\n",
    "    "
   ]
  },
  {
   "cell_type": "markdown",
   "metadata": {},
   "source": [
    "DONT WORK YET - by now data is saved as tuple but needs to become tensor"
   ]
  },
  {
   "cell_type": "code",
   "execution_count": 56,
   "metadata": {},
   "outputs": [],
   "source": [
    "\n",
    "\n",
    "#train_ds = tf.data.Dataset.from_tensor_slices(train_ds).apply(preprocess)\n",
    "#test_ds = tf.data.Dataset.from_tensor_slices(test_ds).apply(preprocess)\n",
    "\n",
    "train_ds = preprocess(train_ds)\n",
    "test_ds = preprocess(test_ds)"
   ]
  },
  {
   "cell_type": "markdown",
   "metadata": {},
   "source": [
    "# Layers:\n",
    "---\n",
    "\n",
    "## Feature Learning:\n",
    "---\n",
    "Convolution + Relu\n",
    "\n",
    "Pooling\n",
    "\n",
    "Convolution + Relu\n",
    "\n",
    "Pooling\n",
    "\n",
    "---\n",
    "\n",
    "## Classification:\n",
    "---\n",
    "Flatten\n",
    "\n",
    "Fully Connected\n",
    "\n",
    "Softmax\n",
    "\n",
    "---\n"
   ]
  },
  {
   "cell_type": "markdown",
   "metadata": {},
   "source": [
    "# Model"
   ]
  },
  {
   "cell_type": "code",
   "execution_count": 46,
   "metadata": {},
   "outputs": [],
   "source": [
    "class ResidualBlock(tf.keras.Model):\n",
    "\n",
    "    def __init__(self):\n",
    "        super(ResidualBlock, self).__init__()\n",
    "        self.BatchNorm_1 = BatchNormalization()\n",
    "        self.conv_2 = Conv2D(filters=32, kernel_size=3, padding=\"same\", activation=\"relu\")\n",
    "        self.BatchNorm_2 = BatchNormalization()\n",
    "        self.conv_3 = Conv2D(filters=32, kernel_size=3, padding=\"same\", activation=\"relu\")\n",
    "        self.BatchNorm_3 = BatchNormalization()\n",
    "        self.conv_4 = Conv2D(filters=32, kernel_size=3, padding=\"same\", activation=\"relu\")\n",
    "\n",
    "    def call(self, inputs):\n",
    "        y = self.BatchNorm_1(inputs)\n",
    "        y = self.conv_2(y)\n",
    "        y = self.BatchNorm_2(y)\n",
    "        y = self.conv_3(y)\n",
    "        y = self.BatchNorm_3(y)\n",
    "        y = self.conv_4(y)\n",
    "\n",
    "        return y + inputs\n",
    "\n"
   ]
  },
  {
   "cell_type": "code",
   "execution_count": 47,
   "metadata": {},
   "outputs": [],
   "source": [
    "class ResNet(tf.keras.Model):\n",
    "    \n",
    "    # \n",
    "    def __init__(self):\n",
    "        super(ResNet, self).__init__()\n",
    "        self.conv_layer = Conv2D(filters=32, kernel_size=3, padding= \"same\", activation=\"relu\")\n",
    "        self.res_block_1 = ResidualBlock()\n",
    "        self.res_block_2 = ResidualBlock()\n",
    "        #dense_layer here\n",
    "        self.global_pool = GlobalAveragePooling2D()\n",
    "        self.out = Dense(10, activation = 'softmax')\n",
    "\n",
    "    \n",
    "    # cast the call-function as tf.function to increase efficiency\n",
    "    @tf.function\n",
    "    # pass the input through the layers of the network and return the output\n",
    "    def call(self, inputs):\n",
    "        x = self.conv_layer(inputs)\n",
    "        x = self.res_block_1.call(x)\n",
    "        x = self.res_block_2.call(x)\n",
    "        x = self.out(x)\n",
    "        return x"
   ]
  },
  {
   "cell_type": "code",
   "execution_count": 48,
   "metadata": {},
   "outputs": [],
   "source": [
    "class TransitionLayer(tf.keras.Model):\n",
    "    \n",
    "    #\n",
    "    def __init__(self):\n",
    "        super(TransitionLayer, self).__init__()\n",
    "        # Adjust filter size\n",
    "        self.conv_layer = Conv2D(filters=32, strides=2, kernel_size=1, activation=\"relu\", )\n",
    "        self.BatchNorm_1 = BatchNormalization()\n",
    "        self.pool_layer = AveragePooling2D(pool_size=2, strides=2)\n",
    "        self.BatchNorm_2 = BatchNormalization()\n",
    "\n",
    "    \n",
    "    # cast the call-function as tf.function to increase efficiency\n",
    "    @tf.function\n",
    "    # pass the input through the layers of the network and return the output\n",
    "    def call(self, inputs):\n",
    "        x = self.conv_layer(inputs)\n",
    "        x = self.BatchNorm_1(x)\n",
    "        x = self.pool_layer(x)\n",
    "        x = self.BatchNorm_2(x)\n",
    "        return x"
   ]
  },
  {
   "cell_type": "code",
   "execution_count": 49,
   "metadata": {},
   "outputs": [],
   "source": [
    "class DenseBlock(tf.keras.Model):\n",
    "\n",
    "    def __init__(self):\n",
    "        super(DenseBlock, self).__init__()\n",
    "        self.BatchNorm_1 = BatchNormalization()\n",
    "        self.conv_2 = Conv2D(filters=32, kernel_size=3, padding=\"same\", activation=\"relu\")\n",
    "        self.BatchNorm_2 = BatchNormalization()\n",
    "        self.conv_3 = Conv2D(filters=32, kernel_size=3, padding=\"same\", activation=\"relu\")\n",
    "\n",
    "    def call(self, inputs):\n",
    "        y = self.BatchNorm_1(inputs)\n",
    "        y = self.conv_2(y)\n",
    "        y = self.BatchNorm_2(y)\n",
    "        y = self.conv_3(y)\n",
    "\n",
    "        return tf.keras.layers.Concatenate()([y, inputs])\n"
   ]
  },
  {
   "cell_type": "code",
   "execution_count": 50,
   "metadata": {},
   "outputs": [],
   "source": [
    "class DenseNet(tf.keras.Model):\n",
    "    \n",
    "    # \n",
    "    def __init__(self):\n",
    "        super(DenseNet, self).__init__()\n",
    "        self.conv_l = Conv2D(filters=32, kernel_size=3, padding= \"same\", activation=\"relu\")\n",
    "        self.dense_block_1 = DenseBlock()\n",
    "        self.dense_block_2 = DenseBlock()\n",
    "        self.BatchNorm_1 = BatchNormalization()\n",
    "        self.conv_2 = Conv2D(filters=32, kernel_size=3, padding= \"same\", activation=\"relu\")\n",
    "        self.global_pool = GlobalAveragePooling2D()\n",
    "        self.out = Dense(10, activation = 'softmax')\n",
    "\n",
    "    \n",
    "    # cast the call-function as tf.function to increase efficiency\n",
    "    @tf.function\n",
    "    # pass the input through the layers of the network and return the output\n",
    "    def call(self, inputs):\n",
    "        x = self.conv_l(inputs)\n",
    "        x = self.dense_block_1 (x)\n",
    "        x = self.dense_block_2 (x)\n",
    "        x = self.BatchNorm_1(x)\n",
    "        x = self.global_pool(x)\n",
    "        x = self.out(x)\n",
    "        return x"
   ]
  },
  {
   "cell_type": "code",
   "execution_count": 51,
   "metadata": {},
   "outputs": [],
   "source": [
    "tf.keras.backend.clear_session()"
   ]
  },
  {
   "cell_type": "markdown",
   "metadata": {},
   "source": [
    "# Training"
   ]
  },
  {
   "cell_type": "markdown",
   "metadata": {},
   "source": [
    "## Train step & test"
   ]
  },
  {
   "cell_type": "code",
   "execution_count": 52,
   "metadata": {},
   "outputs": [],
   "source": [
    "# compute the loss of an input for the model and optimize/tweak according the parameters\n",
    "def train_step(model, input, target, loss_function, optimizer):\n",
    "    # use tf.gradientTape to compute loss, then gradients and apply these to the model to modify the parameters\n",
    "    with tf.GradientTape() as tape:\n",
    "        prediction = model(input)\n",
    "        loss = loss_function(target, prediction)\n",
    "        gradients = tape.gradient(loss, model.trainable_variables)\n",
    "    optimizer.apply_gradients(zip(gradients, model.trainable_variables))\n",
    "    return loss\n",
    "\n",
    "\n",
    "# compute the differences between or model prediction and the label, -> Supervision\n",
    "def test(model, test_data, loss_function):\n",
    "  # test over complete test data\n",
    "  test_accuracy_aggregator = []\n",
    "  test_loss_aggregator = []\n",
    "\n",
    "  for (input, target) in test_data:\n",
    "    prediction = model(input)\n",
    "    sample_test_loss = loss_function(target, prediction)\n",
    "    sample_test_accuracy =  np.argmax(target, axis=0) == np.argmax(prediction, axis=0)\n",
    "    \n",
    "    sample_test_accuracy = np.mean(sample_test_accuracy)\n",
    "    test_loss_aggregator.append(sample_test_loss.numpy())\n",
    "    test_accuracy_aggregator.append(np.mean(sample_test_accuracy))\n",
    "    \n",
    "# for all input and computed losses get the mean of accuracy and loss and return them\n",
    "  test_loss = tf.reduce_mean(test_loss_aggregator)\n",
    "  test_accuracy = tf.reduce_mean(test_accuracy_aggregator)\n",
    "\n",
    "  return test_loss, test_accuracy"
   ]
  },
  {
   "cell_type": "markdown",
   "metadata": {},
   "source": [
    "## Training"
   ]
  },
  {
   "cell_type": "code",
   "execution_count": 53,
   "metadata": {},
   "outputs": [
    {
     "ename": "TypeError",
     "evalue": "'NoneType' object is not iterable",
     "output_type": "error",
     "traceback": [
      "\u001b[1;31m---------------------------------------------------------------------------\u001b[0m",
      "\u001b[1;31mTypeError\u001b[0m                                 Traceback (most recent call last)",
      "\u001b[1;32m~\\AppData\\Local\\Temp/ipykernel_2488/1248462177.py\u001b[0m in \u001b[0;36m<module>\u001b[1;34m\u001b[0m\n\u001b[0;32m     16\u001b[0m \u001b[1;33m\u001b[0m\u001b[0m\n\u001b[0;32m     17\u001b[0m \u001b[1;31m# get initial accuracy- and loss valus before training starts\u001b[0m\u001b[1;33m\u001b[0m\u001b[1;33m\u001b[0m\u001b[0m\n\u001b[1;32m---> 18\u001b[1;33m \u001b[0mtest_loss\u001b[0m\u001b[1;33m,\u001b[0m \u001b[0mtest_accuracy\u001b[0m \u001b[1;33m=\u001b[0m \u001b[0mtest\u001b[0m\u001b[1;33m(\u001b[0m\u001b[0mmodel\u001b[0m\u001b[1;33m,\u001b[0m \u001b[0mtest_ds\u001b[0m\u001b[1;33m,\u001b[0m \u001b[0mcross_entropy_loss\u001b[0m\u001b[1;33m)\u001b[0m\u001b[1;33m\u001b[0m\u001b[1;33m\u001b[0m\u001b[0m\n\u001b[0m\u001b[0;32m     19\u001b[0m \u001b[0mtest_losses\u001b[0m\u001b[1;33m.\u001b[0m\u001b[0mappend\u001b[0m\u001b[1;33m(\u001b[0m\u001b[0mtest_loss\u001b[0m\u001b[1;33m)\u001b[0m\u001b[1;33m\u001b[0m\u001b[1;33m\u001b[0m\u001b[0m\n\u001b[0;32m     20\u001b[0m \u001b[0mtest_accuracies\u001b[0m\u001b[1;33m.\u001b[0m\u001b[0mappend\u001b[0m\u001b[1;33m(\u001b[0m\u001b[0mtest_accuracy\u001b[0m\u001b[1;33m)\u001b[0m\u001b[1;33m\u001b[0m\u001b[1;33m\u001b[0m\u001b[0m\n",
      "\u001b[1;32m~\\AppData\\Local\\Temp/ipykernel_2488/1084778767.py\u001b[0m in \u001b[0;36mtest\u001b[1;34m(model, test_data, loss_function)\u001b[0m\n\u001b[0;32m     16\u001b[0m   \u001b[0mtest_loss_aggregator\u001b[0m \u001b[1;33m=\u001b[0m \u001b[1;33m[\u001b[0m\u001b[1;33m]\u001b[0m\u001b[1;33m\u001b[0m\u001b[1;33m\u001b[0m\u001b[0m\n\u001b[0;32m     17\u001b[0m \u001b[1;33m\u001b[0m\u001b[0m\n\u001b[1;32m---> 18\u001b[1;33m   \u001b[1;32mfor\u001b[0m \u001b[1;33m(\u001b[0m\u001b[0minput\u001b[0m\u001b[1;33m,\u001b[0m \u001b[0mtarget\u001b[0m\u001b[1;33m)\u001b[0m \u001b[1;32min\u001b[0m \u001b[0mtest_data\u001b[0m\u001b[1;33m:\u001b[0m\u001b[1;33m\u001b[0m\u001b[1;33m\u001b[0m\u001b[0m\n\u001b[0m\u001b[0;32m     19\u001b[0m     \u001b[0mprediction\u001b[0m \u001b[1;33m=\u001b[0m \u001b[0mmodel\u001b[0m\u001b[1;33m(\u001b[0m\u001b[0minput\u001b[0m\u001b[1;33m)\u001b[0m\u001b[1;33m\u001b[0m\u001b[1;33m\u001b[0m\u001b[0m\n\u001b[0;32m     20\u001b[0m     \u001b[0msample_test_loss\u001b[0m \u001b[1;33m=\u001b[0m \u001b[0mloss_function\u001b[0m\u001b[1;33m(\u001b[0m\u001b[0mtarget\u001b[0m\u001b[1;33m,\u001b[0m \u001b[0mprediction\u001b[0m\u001b[1;33m)\u001b[0m\u001b[1;33m\u001b[0m\u001b[1;33m\u001b[0m\u001b[0m\n",
      "\u001b[1;31mTypeError\u001b[0m: 'NoneType' object is not iterable"
     ]
    }
   ],
   "source": [
    "#predefine learning-rate and epochs\n",
    "num_epochs = 10\n",
    "alpha = 0.05\n",
    "\n",
    "# create a model\n",
    "model = ResNet()\n",
    "\n",
    "# define loss-function and optimizer\n",
    "cross_entropy_loss = tf.keras.losses.CategoricalCrossentropy()\n",
    "optimizer = tf.keras.optimizers.SGD(alpha)\n",
    "\n",
    "# create empty arrays to store test/accuracy values, to track the network progress\n",
    "train_losses = []\n",
    "test_losses = []\n",
    "test_accuracies = []\n",
    "\n",
    "# get initial accuracy- and loss valus before training starts\n",
    "test_loss, test_accuracy = test(model, test_ds, cross_entropy_loss)\n",
    "test_losses.append(test_loss)\n",
    "test_accuracies.append(test_accuracy)\n",
    "\n",
    "train_loss, _ = test(model, train_ds, cross_entropy_loss)\n",
    "train_losses.append(train_loss)\n",
    "\n",
    "print(\"Starting Training ResNet: \")\n",
    "# training loop\n",
    "average_time = []\n",
    "for epoch in range(num_epochs):\n",
    "    # print accuracy of each epoch\n",
    "    pre_train_time = time.time()\n",
    "    print(f'Epoch: {str(epoch)} starting with accuracy {str(test_accuracies[-1])}')\n",
    "    \n",
    "    loss_epoch = []\n",
    "    # for all input, do a forwardstep and obtain loss\n",
    "    for input, target in train_ds:\n",
    "        train_loss = train_step(model, input, target, cross_entropy_loss, optimizer)\n",
    "        loss_epoch.append(train_loss)\n",
    "    # get the mean loss of this epoch by using reduce_sum of TF over all input-losses and appending to the array  \n",
    "    train_losses.append(tf.reduce_mean(loss_epoch))\n",
    "    \n",
    "    # get the losses and accuracy of this epoch and store them\n",
    "    test_loss, test_accuracy = test(model, test_ds, cross_entropy_loss)\n",
    "    test_losses.append(test_loss)\n",
    "    test_accuracies.append(test_accuracy)\n",
    "\n",
    "    average_time.append(time.time() - pre_train_time)\n",
    "    print(\"Took: \" + str(time.time() - pre_train_time))\n",
    "    \n",
    "# print accuracy after 10 epochs\n",
    "print(test_accuracies[-1])\n",
    "print(\"Mean Time per Epoch: \" + str(round(np.mean(average_time), 2)) + \"! With Parameters: \")\n",
    "print(\"Batch size: \" + str(BATCH_SIZE) + \"  Prefetch size: \" + str(PREFETCH_SIZE) + \"  Buffer size: \" + str(BUFFER_SIZE))\n"
   ]
  },
  {
   "cell_type": "code",
   "execution_count": null,
   "metadata": {},
   "outputs": [
    {
     "name": "stdout",
     "output_type": "stream",
     "text": [
      "Starting Training: \n",
      "Epoch: 0 starting with accuracy tf.Tensor(0.005, shape=(), dtype=float64)\n",
      "Took: 49.177430629730225\n",
      "Epoch: 1 starting with accuracy tf.Tensor(0.02, shape=(), dtype=float64)\n",
      "Took: 47.558732986450195\n",
      "Epoch: 2 starting with accuracy tf.Tensor(0.030000000000000006, shape=(), dtype=float64)\n",
      "Took: 47.58029842376709\n",
      "Epoch: 3 starting with accuracy tf.Tensor(0.02, shape=(), dtype=float64)\n",
      "Took: 49.25905895233154\n",
      "Epoch: 4 starting with accuracy tf.Tensor(0.005, shape=(), dtype=float64)\n",
      "Took: 47.53438186645508\n",
      "Epoch: 5 starting with accuracy tf.Tensor(0.025, shape=(), dtype=float64)\n",
      "Took: 47.23164916038513\n",
      "Epoch: 6 starting with accuracy tf.Tensor(0.015000000000000003, shape=(), dtype=float64)\n",
      "Took: 1013.210203409195\n",
      "Epoch: 7 starting with accuracy tf.Tensor(0.035, shape=(), dtype=float64)\n",
      "Took: 32.77325797080994\n",
      "Epoch: 8 starting with accuracy tf.Tensor(0.015000000000000003, shape=(), dtype=float64)\n",
      "Took: 32.77551889419556\n",
      "Epoch: 9 starting with accuracy tf.Tensor(0.025, shape=(), dtype=float64)\n",
      "Took: 37.02858853340149\n",
      "tf.Tensor(0.01, shape=(), dtype=float64)\n",
      "Mean Time per Epoch: 140.41! With Parameters: \n",
      "Batch size: 512  Prefetch size: 256  Buffer size: 256\n"
     ]
    }
   ],
   "source": [
    "#predefine learning-rate and epochs\n",
    "num_epochs = 10\n",
    "alpha = 0.05\n",
    "\n",
    "# create a model\n",
    "model = DenseNet()\n",
    "\n",
    "# define loss-function and optimizer\n",
    "cross_entropy_loss = tf.keras.losses.CategoricalCrossentropy()\n",
    "optimizer = tf.keras.optimizers.SGD(alpha)\n",
    "\n",
    "# create empty arrays to store test/accuracy values, to track the network progress\n",
    "train_losses = []\n",
    "test_losses = []\n",
    "test_accuracies = []\n",
    "\n",
    "# get initial accuracy- and loss valus before training starts\n",
    "test_loss, test_accuracy = test(model, test_ds, cross_entropy_loss)\n",
    "test_losses.append(test_loss)\n",
    "test_accuracies.append(test_accuracy)\n",
    "\n",
    "train_loss, _ = test(model, train_ds, cross_entropy_loss)\n",
    "train_losses.append(train_loss)\n",
    "\n",
    "print(\"Starting Training ResNet: \")\n",
    "# training loop\n",
    "average_time = []\n",
    "for epoch in range(num_epochs):\n",
    "    # print accuracy of each epoch\n",
    "    pre_train_time = time.time()\n",
    "    print(f'Epoch: {str(epoch)} starting with accuracy {str(test_accuracies[-1])}')\n",
    "    \n",
    "    loss_epoch = []\n",
    "    # for all input, do a forwardstep and obtain loss\n",
    "    for input, target in train_ds:\n",
    "        train_loss = train_step(model, input, target, cross_entropy_loss, optimizer)\n",
    "        loss_epoch.append(train_loss)\n",
    "    # get the mean loss of this epoch by using reduce_sum of TF over all input-losses and appending to the array  \n",
    "    train_losses.append(tf.reduce_mean(loss_epoch))\n",
    "    \n",
    "    # get the losses and accuracy of this epoch and store them\n",
    "    test_loss, test_accuracy = test(model, test_ds, cross_entropy_loss)\n",
    "    test_losses.append(test_loss)\n",
    "    test_accuracies.append(test_accuracy)\n",
    "\n",
    "    average_time.append(time.time() - pre_train_time)\n",
    "    print(\"Took: \" + str(time.time() - pre_train_time))\n",
    "    \n",
    "# print accuracy after 10 epochs\n",
    "print(test_accuracies[-1])\n",
    "print(\"Mean Time per Epoch: \" + str(round(np.mean(average_time), 2)) + \"! With Parameters: \")\n",
    "print(\"Batch size: \" + str(BATCH_SIZE) + \"  Prefetch size: \" + str(PREFETCH_SIZE) + \"  Buffer size: \" + str(BUFFER_SIZE))\n",
    "\n",
    "\n",
    "          \n",
    "    "
   ]
  },
  {
   "cell_type": "markdown",
   "metadata": {},
   "source": [
    "# Visualisation"
   ]
  },
  {
   "cell_type": "code",
   "execution_count": null,
   "metadata": {},
   "outputs": [],
   "source": [
    "# Visualisation\n",
    "import matplotlib.pyplot as plt\n",
    "\n",
    "plt.figure()\n",
    "line1, = plt.plot(train_losses)\n",
    "line2, = plt.plot(test_losses)\n",
    "line3, = plt.plot(test_accuracies)\n",
    "plt.xlabel(\"Training steps\")\n",
    "plt.ylabel(\"Loss/Accuracy\")\n",
    "plt.legend((line1,line2,line3),(\"training\",\"test\", \"accuracy\"))\n",
    "plt.show()"
   ]
  }
 ],
 "metadata": {
  "interpreter": {
   "hash": "e67c7a27c154baed0fd8f944c6e3c7d903aa3602026d8733fc96f7ebc6980442"
  },
  "kernelspec": {
   "display_name": "Python 3.9.7 64-bit ('iannwtf': conda)",
   "name": "python3"
  },
  "language_info": {
   "codemirror_mode": {
    "name": "ipython",
    "version": 3
   },
   "file_extension": ".py",
   "mimetype": "text/x-python",
   "name": "python",
   "nbconvert_exporter": "python",
   "pygments_lexer": "ipython3",
   "version": "3.9.7"
  },
  "orig_nbformat": 4
 },
 "nbformat": 4,
 "nbformat_minor": 2
}
