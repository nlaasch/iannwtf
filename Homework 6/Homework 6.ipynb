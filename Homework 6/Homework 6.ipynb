{
 "cells": [
  {
   "cell_type": "markdown",
   "id": "449759e5",
   "metadata": {},
   "source": [
    "HOMEWORK 6 - CIFAR10 Image Classification"
   ]
  },
  {
   "cell_type": "code",
   "execution_count": 12,
   "id": "f418e38e",
   "metadata": {},
   "outputs": [],
   "source": [
    "import tensorflow as tf\n",
    "import tensorflow_datasets as tfds\n",
    "import numpy as np\n",
    "from tensorflow.keras.layers import Conv2D, MaxPooling2D,GlobalAveragePooling2D, Dense, BatchNormalization, Concatenate"
   ]
  },
  {
   "cell_type": "code",
   "execution_count": 7,
   "id": "01b37658",
   "metadata": {},
   "outputs": [],
   "source": [
    "train_ds, test_ds = tfds.load('cifar10', split=['train','test'], as_supervised=True)"
   ]
  },
  {
   "cell_type": "code",
   "execution_count": 8,
   "id": "71166e04",
   "metadata": {},
   "outputs": [],
   "source": [
    "BATCH_SIZE = 64\n",
    "PREFETCH_SIZE = 32"
   ]
  },
  {
   "cell_type": "code",
   "execution_count": 9,
   "id": "1c9e9d76",
   "metadata": {},
   "outputs": [],
   "source": [
    "def prepare_dataset(ds):\n",
    "    #cast to float32\n",
    "    ds = ds.map(lambda img, target: (tf.cast(img, dtype=tf.float32), target))\n",
    "    #normalize values\n",
    "    ds = ds.map(lambda img, target: ((img/128.)-1, target))\n",
    "    #create one_vector for labels\n",
    "    ds = ds.map(lambda img, target: (img, tf.one_hot(target, 10)))\n",
    "    # cache, shuffle, prefetch\n",
    "    ds = ds.cache()\n",
    "    ds = ds.shuffle(1000).batch(BATCH_SIZE).prefetch(PREFETCH_SIZE)\n",
    "    \n",
    "    return ds"
   ]
  },
  {
   "cell_type": "code",
   "execution_count": 10,
   "id": "84d45ccd",
   "metadata": {},
   "outputs": [
    {
     "data": {
      "text/plain": [
       "<PrefetchDataset shapes: ((None, 32, 32, 3), (None, 10)), types: (tf.float32, tf.float32)>"
      ]
     },
     "execution_count": 10,
     "metadata": {},
     "output_type": "execute_result"
    }
   ],
   "source": [
    "train_ds = prepare_dataset(train_ds)\n",
    "test_ds = prepare_dataset(test_ds)\n",
    "test_ds"
   ]
  },
  {
   "cell_type": "markdown",
   "id": "e69bf343",
   "metadata": {},
   "source": [
    "ResBlock Class"
   ]
  },
  {
   "cell_type": "code",
   "execution_count": null,
   "id": "8e1e5d7e",
   "metadata": {},
   "outputs": [],
   "source": [
    "class ResidualBlock(tf.keras.layers):\n",
    "    def __init__(self):\n",
    "        super(ResidualBlock, self).__init__()\n",
    "        self.conv1 = Conv2D(filters = filter_size, kernel_size = 1, padding = \"same\", activation = \"relu\")\n",
    "        self.norm = BatchNormalization(training=True)\n",
    "        \n",
    "        self.con2 = Conv2D(filters = filter_size, kernel_size = 3, padding = \"same\", activation = \"relu\")\n",
    "        self.norm2 = BatchNormalization(training=True)\n",
    "        \n",
    "        self.con3 = Conv2D(filters = filter_size, kernel_size = 1, padding = \"same\", activation = \"relu\")\n",
    "        self.norm3 = BatchNormalization(training=True)\n",
    "        \n",
    "        \n",
    "    @tf.function\n",
    "    def call(self, inputs, filter_size):\n",
    "        x = self.conv1(inputs,filter_size)\n",
    "        x = self.out(x)\n",
    "        return x"
   ]
  },
  {
   "cell_type": "markdown",
   "id": "b0f8c0ef",
   "metadata": {},
   "source": [
    "Custom Model:"
   ]
  },
  {
   "cell_type": "code",
   "execution_count": null,
   "id": "49367589",
   "metadata": {},
   "outputs": [],
   "source": [
    "class ResNet(tf.keras.model):\n",
    "    def __init__(self):\n",
    "        super(ResNet, self).__init__()\n",
    "        #insert building Blocks for ResNet and DenseNet here\n",
    "        self.layer = Dense(64)\n",
    "        \n",
    "    @tf.function\n",
    "    def call(self, inputs):\n",
    "        x = layer(inputs)\n",
    "        return x\n",
    "        "
   ]
  }
 ],
 "metadata": {
  "kernelspec": {
   "display_name": "Python 3.9 (tensorflow)",
   "language": "python",
   "name": "tensorflow"
  },
  "language_info": {
   "codemirror_mode": {
    "name": "ipython",
    "version": 3
   },
   "file_extension": ".py",
   "mimetype": "text/x-python",
   "name": "python",
   "nbconvert_exporter": "python",
   "pygments_lexer": "ipython3",
   "version": "3.9.7"
  }
 },
 "nbformat": 4,
 "nbformat_minor": 5
}
