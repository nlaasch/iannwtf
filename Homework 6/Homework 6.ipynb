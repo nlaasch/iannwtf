{
 "cells": [
  {
   "cell_type": "markdown",
   "id": "189dcfda",
   "metadata": {},
   "source": [
    "HOMEWORK 6 - CIFAR10 Image Classification"
   ]
  },
  {
   "cell_type": "code",
   "execution_count": 41,
   "id": "4806f8cc",
   "metadata": {},
   "outputs": [],
   "source": [
    "import tensorflow as tf\n",
    "import tensorflow_datasets as tfds\n",
    "import numpy as np\n",
    "from tensorflow.keras.layers import Conv2D, MaxPooling2D,GlobalAveragePooling2D, Dense "
   ]
  },
  {
   "cell_type": "code",
   "execution_count": 42,
   "id": "fff1f416",
   "metadata": {},
   "outputs": [],
   "source": [
    "train_ds, test_ds = tfds.load('cifar10', split=['train','test'], as_supervised=True)"
   ]
  },
  {
   "cell_type": "code",
   "execution_count": 46,
   "id": "66d742fe",
   "metadata": {},
   "outputs": [
    {
     "data": {
      "text/plain": [
       "<PrefetchDataset shapes: ((None, 32, 32, 3), (None, 10)), types: (tf.float32, tf.float32)>"
      ]
     },
     "execution_count": 46,
     "metadata": {},
     "output_type": "execute_result"
    }
   ],
   "source": [
    "train_ds"
   ]
  },
  {
   "cell_type": "code",
   "execution_count": 43,
   "id": "f2f217e3",
   "metadata": {},
   "outputs": [],
   "source": [
    "BATCH_SIZE = 64\n",
    "PREFETCH_SIZE = 32"
   ]
  },
  {
   "cell_type": "code",
   "execution_count": 44,
   "id": "b57b684a",
   "metadata": {},
   "outputs": [],
   "source": [
    "def prepare_dataset(ds):\n",
    "    #cast to float32\n",
    "    ds = ds.map(lambda img, target: (tf.cast(img, dtype=tf.float32), target))\n",
    "    #normalize values\n",
    "    ds = ds.map(lambda img, target: ((img/128.)-1, target))\n",
    "    #create one_vector for labels\n",
    "    ds = ds.map(lambda img, target: (img, tf.one_hot(target, 10)))\n",
    "    # cache, shuffle, prefetch\n",
    "    ds = ds.cache()\n",
    "    ds = ds.shuffle(1000).batch(BATCH_SIZE).prefetch(PREFETCH_SIZE)\n",
    "    \n",
    "    return ds"
   ]
  },
  {
   "cell_type": "code",
   "execution_count": 45,
   "id": "41087af1",
   "metadata": {},
   "outputs": [
    {
     "name": "stdout",
     "output_type": "stream",
     "text": [
      "<PrefetchDataset shapes: ((None, 32, 32, 3), (None, 10)), types: (tf.float32, tf.float32)>\n"
     ]
    }
   ],
   "source": [
    "train_ds = prepare_dataset(train_ds)\n",
    "#test_ds = prepare_dataset(test_ds)\n",
    "print(train_ds)"
   ]
  },
  {
   "cell_type": "code",
   "execution_count": null,
   "id": "e7f93430",
   "metadata": {},
   "outputs": [],
   "source": []
  }
 ],
 "metadata": {
  "kernelspec": {
   "display_name": "Python 3.9 (tensorflow)",
   "language": "python",
   "name": "tensorflow"
  },
  "language_info": {
   "codemirror_mode": {
    "name": "ipython",
    "version": 3
   },
   "file_extension": ".py",
   "mimetype": "text/x-python",
   "name": "python",
   "nbconvert_exporter": "python",
   "pygments_lexer": "ipython3",
   "version": "3.9.7"
  }
 },
 "nbformat": 4,
 "nbformat_minor": 5
}
