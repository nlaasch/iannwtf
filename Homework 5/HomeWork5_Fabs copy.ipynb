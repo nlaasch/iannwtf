{
 "cells": [
  {
   "cell_type": "code",
   "execution_count": null,
   "id": "a75fce31",
   "metadata": {},
   "outputs": [
    {
     "ename": "Error",
     "evalue": "Session cannot generate requests",
     "output_type": "error",
     "traceback": [
      "Error: Session cannot generate requests",
      "at S.executeCodeCell (c:\\Users\\nikla\\.vscode\\extensions\\ms-toolsai.jupyter-2021.10.1101450599\\out\\client\\extension.js:66:301742)",
      "at S.execute (c:\\Users\\nikla\\.vscode\\extensions\\ms-toolsai.jupyter-2021.10.1101450599\\out\\client\\extension.js:66:300732)",
      "at S.start (c:\\Users\\nikla\\.vscode\\extensions\\ms-toolsai.jupyter-2021.10.1101450599\\out\\client\\extension.js:66:296408)",
      "at processTicksAndRejections (internal/process/task_queues.js:93:5)",
      "at async t.CellExecutionQueue.executeQueuedCells (c:\\Users\\nikla\\.vscode\\extensions\\ms-toolsai.jupyter-2021.10.1101450599\\out\\client\\extension.js:66:312326)",
      "at async t.CellExecutionQueue.start (c:\\Users\\nikla\\.vscode\\extensions\\ms-toolsai.jupyter-2021.10.1101450599\\out\\client\\extension.js:66:311862)"
     ]
    }
   ],
   "source": [
    "import tensorflow as tf\n",
    "import tensorflow_datasets as tfds\n",
    "import numpy as np\n",
    "from tensorflow.keras.layers import Conv2D\n",
    "from tensorflow.keras.layers import MaxPooling2D\n",
    "from tensorflow.keras.layers import GlobalAveragePooling2D\n",
    "from tensorflow.keras.layers import Dense\n",
    "import time"
   ]
  },
  {
   "cell_type": "markdown",
   "id": "679e4319",
   "metadata": {},
   "source": [
    "Load Dataset from Tensorflow Datasets and split into Train and Test"
   ]
  },
  {
   "cell_type": "code",
   "execution_count": null,
   "id": "f423d5fb",
   "metadata": {},
   "outputs": [],
   "source": [
    "train_ds, test_ds = tfds.load('fashion_mnist', split=['train', 'test'], as_supervised=True)"
   ]
  },
  {
   "cell_type": "code",
   "execution_count": null,
   "id": "5df881ab",
   "metadata": {},
   "outputs": [],
   "source": [
    "BATCH_SIZE = 32\n",
    "PREFETCH_SIZE = 64"
   ]
  },
  {
   "cell_type": "markdown",
   "id": "298e29cb",
   "metadata": {},
   "source": [
    "Dataset Pipeline Function"
   ]
  },
  {
   "cell_type": "code",
   "execution_count": null,
   "id": "5789c822",
   "metadata": {},
   "outputs": [],
   "source": [
    "def prepare_fashion_dataset(data):\n",
    "    \n",
    "    data = data.map(lambda img, target: (tf.cast(img, tf.float32), target))\n",
    "    # normalize inputs from 0/255 to -1/1\n",
    "    data = data.map(lambda img, target: ((img/128.)-1, target))\n",
    "    # create one-hot vector for targets\n",
    "    data = data.map(lambda img, target: (img, tf.one_hot(target, depth=10)))\n",
    "    # cache, shuffle, batch and prefetch data for efficient processing \n",
    "    data = data.cache()\n",
    "    data = data.shuffle(1000).batch(BATCH_SIZE).prefetch(PREFETCH_SIZE)\n",
    "    return data\n",
    "    "
   ]
  },
  {
   "cell_type": "code",
   "execution_count": null,
   "id": "607ce270",
   "metadata": {},
   "outputs": [],
   "source": [
    "train_ds = prepare_fashion_dataset(train_ds)\n",
    "test_ds =  prepare_fashion_dataset(test_ds)\n",
    "\n",
    "# train_ds = train_ds.apply(prepare_fashion_dataset)\n",
    "# test_ds =  test_ds.apply(prepare_fashion_dataset)"
   ]
  },
  {
   "cell_type": "markdown",
   "id": "a0302f62",
   "metadata": {},
   "source": [
    "Construct a model:"
   ]
  },
  {
   "cell_type": "code",
   "execution_count": null,
   "id": "0e051384",
   "metadata": {},
   "outputs": [],
   "source": [
    "#custom model with custom layer\n",
    "class CustomModel(tf.keras.Model):\n",
    "    \n",
    "    # Instantiate layer \n",
    "    def __init__(self):\n",
    "        super(CustomModel, self).__init__()\n",
    "        # Apply 24 kernel filters to our input\n",
    "        # Convert from (28x28x1) to (28x28x24)\n",
    "        self.conv1 = Conv2D(filters = 24, kernel_size = 3, padding = \"same\", activation = \"relu\")\n",
    "        self.conv2 = Conv2D(filters = 24, kernel_size = 3, padding = \"same\", activation = \"relu\")\n",
    "        # Cut the size by half and only keep most prominent values (reduce noise)\n",
    "        # Convert (28x28x24) to (14x14x24)\n",
    "        self.pooling = MaxPooling2D(pool_size = 2, strides = 2)\n",
    "        # Apply 48 kernel filters\n",
    "        # Convert from (14x14x24) to (14x14x48)\n",
    "        self.conv3 = Conv2D(filters = 48, kernel_size = 3, padding = \"same\", activation = \"relu\")\n",
    "        self.conv4 = Conv2D(filters = 48, kernel_size = 3, padding = \"same\", activation = \"relu\")\n",
    "        # Take the mean of each of the 48 matrices\n",
    "        # Convert output to (1x48)\n",
    "        self.global_pool = GlobalAveragePooling2D()\n",
    "        # Convert to (1x10) outputs\n",
    "        self.out = Dense(10, activation = 'softmax')\n",
    "\n",
    "\n",
    "    def fit(model):\n",
    "        return model.fit()\n",
    "\n",
    "    \n",
    "    # cast the call-function as tf.function to increase efficiency\n",
    "    @tf.function\n",
    "    # pass the input through the layers of the network and return the output\n",
    "    def call(self, inputs):\n",
    "        x = self.conv1(inputs)\n",
    "        x = self.conv2(x)\n",
    "        x = self.pooling(x)\n",
    "        x = self.conv3(x)\n",
    "        x = self.conv4(x)\n",
    "        x = self.global_pool(x)\n",
    "        x = self.out(x)\n",
    "        return x"
   ]
  },
  {
   "cell_type": "markdown",
   "id": "987a1b61",
   "metadata": {},
   "source": [
    "Training Step:"
   ]
  },
  {
   "cell_type": "code",
   "execution_count": null,
   "id": "544cd484",
   "metadata": {},
   "outputs": [],
   "source": [
    "def train_step(model, input, target, loss_function, optimizer):\n",
    "  # Keeps track of gradients\n",
    "  with tf.GradientTape() as tape:\n",
    "    prediction = model(input)\n",
    "    loss = loss_function(target, prediction)\n",
    "    gradients = tape.gradient(loss, model.trainable_variables)\n",
    "  \n",
    "  # Reduce weights by gradients with selected optimizer\n",
    "  optimizer.apply_gradients(zip(gradients, model.trainable_variables))\n",
    "  return loss"
   ]
  },
  {
   "cell_type": "markdown",
   "id": "c08cfb4f",
   "metadata": {},
   "source": [
    "Testing Accuracy:"
   ]
  },
  {
   "cell_type": "code",
   "execution_count": null,
   "id": "27d17e06",
   "metadata": {},
   "outputs": [],
   "source": [
    "def test(model, test_data, loss_function):\n",
    "  # test over complete test data\n",
    "\n",
    "  test_accuracy_aggregator = []\n",
    "  test_loss_aggregator = []\n",
    "\n",
    "  for (input, target) in test_data:\n",
    "    # Calculate output and loss\n",
    "    prediction = model(input)\n",
    "    sample_test_loss = loss_function(target, prediction)\n",
    "    # Check wether index of network output and the target for True is the same\n",
    "    sample_test_accuracy =  np.argmax(target, axis=1) == np.argmax(prediction, axis=1)\n",
    "    # Take the mean over the whole dataset => accuracy of 1 epoch\n",
    "    sample_test_accuracy = np.mean(sample_test_accuracy)\n",
    "    # Keep track of accuracy and loss\n",
    "    test_loss_aggregator.append(sample_test_loss.numpy())\n",
    "    test_accuracy_aggregator.append(np.mean(sample_test_accuracy))\n",
    "\n",
    "  test_loss = tf.reduce_mean(test_loss_aggregator)\n",
    "  test_accuracy = tf.reduce_mean(test_accuracy_aggregator)\n",
    "\n",
    "  return test_loss, test_accuracy"
   ]
  },
  {
   "cell_type": "code",
   "execution_count": null,
   "id": "4f5e0b19",
   "metadata": {},
   "outputs": [],
   "source": [
    "tf.keras.backend.clear_session()\n"
   ]
  },
  {
   "cell_type": "code",
   "execution_count": null,
   "id": "9ef3bcc5",
   "metadata": {},
   "outputs": [],
   "source": [
    "model = CustomModel()\n",
    "\n",
    "model.fit()"
   ]
  },
  {
   "cell_type": "markdown",
   "id": "0b0f3996",
   "metadata": {},
   "source": [
    "Training:"
   ]
  },
  {
   "cell_type": "code",
   "execution_count": null,
   "id": "5ec0ed63",
   "metadata": {},
   "outputs": [
    {
     "ename": "Error",
     "evalue": "Session cannot generate requests",
     "output_type": "error",
     "traceback": [
      "Error: Session cannot generate requests",
      "at S.executeCodeCell (c:\\Users\\nikla\\.vscode\\extensions\\ms-toolsai.jupyter-2021.10.1101450599\\out\\client\\extension.js:66:301742)",
      "at S.execute (c:\\Users\\nikla\\.vscode\\extensions\\ms-toolsai.jupyter-2021.10.1101450599\\out\\client\\extension.js:66:300732)",
      "at S.start (c:\\Users\\nikla\\.vscode\\extensions\\ms-toolsai.jupyter-2021.10.1101450599\\out\\client\\extension.js:66:296408)",
      "at runMicrotasks (<anonymous>)",
      "at processTicksAndRejections (internal/process/task_queues.js:93:5)",
      "at async t.CellExecutionQueue.executeQueuedCells (c:\\Users\\nikla\\.vscode\\extensions\\ms-toolsai.jupyter-2021.10.1101450599\\out\\client\\extension.js:66:312326)",
      "at async t.CellExecutionQueue.start (c:\\Users\\nikla\\.vscode\\extensions\\ms-toolsai.jupyter-2021.10.1101450599\\out\\client\\extension.js:66:311862)"
     ]
    }
   ],
   "source": [
    "# Hyperparameters\n",
    "num_epochs = 100\n",
    "learning_rate = 0.05\n",
    "\n",
    "\n",
    "# Instantiate the model\n",
    "model = CustomModel()\n",
    "# Initialize the loss: categorical cross entropy. Check out 'tf.keras.losses'.\n",
    "cross_entropy_loss = tf.keras.losses.CategoricalCrossentropy()\n",
    "# Initialize the optimizer: SGD with default parameters. Check out 'tf.keras.optimizers'\n",
    "\n",
    "\n",
    "optimizer = tf.keras.optimizers.SGD(learning_rate)\n",
    "\n",
    "# Initialize lists for later visualization.\n",
    "train_losses = []\n",
    "test_losses = []\n",
    "test_accuracies = []\n",
    "\n",
    "#testing once before we begin\n",
    "test_loss, test_accuracy = test(model, test_ds, cross_entropy_loss)\n",
    "test_losses.append(test_loss)\n",
    "test_accuracies.append(test_accuracy)\n",
    "\n",
    "#check how model performs on train data once before we begin\n",
    "train_loss, _ = test(model, train_ds, cross_entropy_loss)\n",
    "train_losses.append(train_loss)\n",
    "\n",
    "\n",
    "# We train for num_epochs epochs.\n",
    "for epoch in range(num_epochs):\n",
    "    current_time = time.time()\n",
    "    print(f'Epoch: {str(epoch)} starting with accuracy {round(float(test_accuracies[-1]), 2)}')\n",
    "\n",
    "    #training (and checking in with training)\n",
    "    epoch_loss_agg = []\n",
    "    for input,target in train_ds:\n",
    "        train_loss = train_step(model, input, target, cross_entropy_loss, optimizer)\n",
    "        epoch_loss_agg.append(train_loss)\n",
    "    \n",
    "    #track training loss\n",
    "    train_losses.append(tf.reduce_mean(epoch_loss_agg))\n",
    "\n",
    "    #testing, so we can track accuracy and test loss\n",
    "    test_loss, test_accuracy = test(model, test_ds, cross_entropy_loss)\n",
    "    test_losses.append(test_loss)\n",
    "    test_accuracies.append(test_accuracy)\n",
    "    print(f'Epoch took: {str(time.time()-current_time)}')"
   ]
  },
  {
   "cell_type": "code",
   "execution_count": null,
   "id": "127f5510",
   "metadata": {},
   "outputs": [],
   "source": [
    "import matplotlib.pyplot as plt\n",
    "\n",
    "# Visualize accuracy and loss for training and test data.\n",
    "plt.figure()\n",
    "line1, = plt.plot(train_losses)\n",
    "line2, = plt.plot(test_losses)\n",
    "line3, = plt.plot(test_accuracies)\n",
    "plt.xlabel(\"Training steps\")\n",
    "plt.ylabel(\"Loss/Accuracy\")\n",
    "plt.legend((line1,line2, line3),(\"training\",\"test\", \"test accuracy\"))\n",
    "plt.show()"
   ]
  }
 ],
 "metadata": {
  "interpreter": {
   "hash": "4f1073c099ddc7feaa79a7ad20594747d23b588351da1e73dea2959a263903ad"
  },
  "kernelspec": {
   "display_name": "Python 3.9 (tensorflow)",
   "language": "python",
   "name": "python3"
  },
  "language_info": {
   "codemirror_mode": {
    "name": "ipython",
    "version": 3
   },
   "file_extension": ".py",
   "mimetype": "text/x-python",
   "name": "python",
   "nbconvert_exporter": "python",
   "pygments_lexer": "ipython3",
   "version": "3.9.7"
  }
 },
 "nbformat": 4,
 "nbformat_minor": 5
}
