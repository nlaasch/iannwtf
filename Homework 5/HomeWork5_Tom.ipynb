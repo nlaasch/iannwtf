{
 "cells": [
  {
   "cell_type": "code",
   "execution_count": 63,
   "id": "a75fce31",
   "metadata": {},
   "outputs": [],
   "source": [
    "import tensorflow as tf\n",
    "import tensorflow_datasets as tfds\n",
    "import numpy as np\n",
    "import pandas as pd\n",
    "from tensorflow.keras.layers import Conv2D\n",
    "from tensorflow.keras.layers import MaxPooling2D\n",
    "from tensorflow.keras.layers import GlobalAveragePooling2D\n",
    "from tensorflow.keras.layers import Dense"
   ]
  },
  {
   "cell_type": "markdown",
   "id": "679e4319",
   "metadata": {},
   "source": [
    "Load Dataset from Tensorflow Datasets and split into Train and Test"
   ]
  },
  {
   "cell_type": "code",
   "execution_count": 64,
   "id": "f423d5fb",
   "metadata": {},
   "outputs": [],
   "source": [
    "train_ds, test_ds = tfds.load('fashion_mnist', split=['train', 'test'], as_supervised=True)"
   ]
  },
  {
   "cell_type": "markdown",
   "id": "298e29cb",
   "metadata": {},
   "source": [
    "Clean Pipeline Function"
   ]
  },
  {
   "cell_type": "code",
   "execution_count": 65,
   "id": "5789c822",
   "metadata": {},
   "outputs": [],
   "source": [
    "def prepare_fashion_dataset(data):\n",
    "    data = data.map(lambda img, target: (tf.cast(img, tf.float32), target))\n",
    "    # normalize inputs from 0/255 to -1/1\n",
    "    data = data.map(lambda img, target: ((img/128.)-1, target))\n",
    "    # create one-hot vector for targets\n",
    "    data = data.map(lambda img, target: (img, tf.one_hot(target, depth=10)))\n",
    "    # cache, shuffle, batch and prefetch data for efficient processing \n",
    "    data = data.cache()\n",
    "    data = data.shuffle(1000)\n",
    "    data = data.batch(32)\n",
    "    data = data.prefetch(20)\n",
    "    # return data\n",
    "    return data\n",
    "    "
   ]
  },
  {
   "cell_type": "code",
   "execution_count": 66,
   "id": "607ce270",
   "metadata": {},
   "outputs": [],
   "source": [
    "train_ds = prepare_fashion_dataset(train_ds)\n",
    "test_ds =  prepare_fashion_dataset(test_ds)"
   ]
  },
  {
   "cell_type": "markdown",
   "id": "a0302f62",
   "metadata": {},
   "source": [
    "Construct a model:"
   ]
  },
  {
   "cell_type": "code",
   "execution_count": 67,
   "id": "0e051384",
   "metadata": {},
   "outputs": [],
   "source": [
    "class MyModel(tf.keras.Model):\n",
    "    \n",
    "    def __init__(self):\n",
    "        super(MyModel, self).__init__()\n",
    "        # convolution layer to create feature maps\n",
    "        self.conv_layer_1 = Conv2D(64, (3,3), activation = 'relu',padding='same', input_shape=(28,28,1))\n",
    "        self.conv_layer_2 = Conv2D(64, (3,3), activation = 'relu',padding='same', input_shape=(28,28,1))\n",
    "        # pooling layer\n",
    "        self.pool_layer_1 = MaxPooling2D(2,2)\n",
    "        # taking the global average of previous values to feed to output function with classification\n",
    "        self.averaging_layer = GlobalAveragePooling2D()\n",
    "        self.out = tf.keras.layers.Dense(10, activation=tf.nn.softmax)\n",
    "\n",
    "    @tf.function\n",
    "    def call(self, inputs):\n",
    "        x = self.conv_layer_1(inputs)\n",
    "        x = self.conv_layer_2(x)\n",
    "        x = self.pool_layer_1(x)\n",
    "        x = self.averaging_layer(x)\n",
    "        x = self.out(x)\n",
    "        return x\n",
    "    "
   ]
  },
  {
   "cell_type": "markdown",
   "id": "987a1b61",
   "metadata": {},
   "source": [
    "Training Step:"
   ]
  },
  {
   "cell_type": "code",
   "execution_count": 68,
   "id": "544cd484",
   "metadata": {},
   "outputs": [],
   "source": [
    "def train_step(model, input, target, loss_function, optimizer):\n",
    "  # loss_object and optimizer_object are instances of respective tensorflow classes\n",
    "  with tf.GradientTape() as tape:\n",
    "    prediction = model(input)\n",
    "    loss = loss_function(target, prediction)\n",
    "    gradients = tape.gradient(loss, model.trainable_variables)\n",
    "  optimizer.apply_gradients(zip(gradients, model.trainable_variables))\n",
    "  return loss"
   ]
  },
  {
   "cell_type": "markdown",
   "id": "c08cfb4f",
   "metadata": {},
   "source": [
    "Testing Accuracy:"
   ]
  },
  {
   "cell_type": "code",
   "execution_count": 69,
   "id": "27d17e06",
   "metadata": {},
   "outputs": [],
   "source": [
    "def test(model, test_data, loss_function):\n",
    "  # test over complete test data\n",
    "\n",
    "  test_accuracy_aggregator = []\n",
    "  test_loss_aggregator = []\n",
    "\n",
    "  for (input, target) in test_data:\n",
    "    prediction = model(input)\n",
    "    sample_test_loss = loss_function(target, prediction)\n",
    "    sample_test_accuracy =  np.argmax(target, axis=1) == np.argmax(prediction, axis=1)\n",
    "    sample_test_accuracy = np.mean(sample_test_accuracy)\n",
    "    test_loss_aggregator.append(sample_test_loss.numpy())\n",
    "    test_accuracy_aggregator.append(np.mean(sample_test_accuracy))\n",
    "\n",
    "  test_loss = tf.reduce_mean(test_loss_aggregator)\n",
    "  test_accuracy = tf.reduce_mean(test_accuracy_aggregator)\n",
    "\n",
    "  return test_loss, test_accuracy"
   ]
  },
  {
   "cell_type": "code",
   "execution_count": 70,
   "id": "4f5e0b19",
   "metadata": {},
   "outputs": [],
   "source": [
    "tf.keras.backend.clear_session()\n"
   ]
  },
  {
   "cell_type": "markdown",
   "id": "0b0f3996",
   "metadata": {},
   "source": [
    "Training:"
   ]
  },
  {
   "cell_type": "code",
   "execution_count": 71,
   "id": "5ec0ed63",
   "metadata": {},
   "outputs": [
    {
     "name": "stderr",
     "output_type": "stream",
     "text": [
      "2021-11-24 21:20:09.250568: I tensorflow/core/grappler/optimizers/custom_graph_optimizer_registry.cc:112] Plugin optimizer for device_type GPU is enabled.\n",
      "2021-11-24 21:20:11.573560: I tensorflow/core/grappler/optimizers/custom_graph_optimizer_registry.cc:112] Plugin optimizer for device_type GPU is enabled.\n"
     ]
    },
    {
     "name": "stdout",
     "output_type": "stream",
     "text": [
      "Epoch: 0 starting with accuracy 0.15115814696485624\n"
     ]
    },
    {
     "name": "stderr",
     "output_type": "stream",
     "text": [
      "2021-11-24 21:20:25.538710: I tensorflow/core/grappler/optimizers/custom_graph_optimizer_registry.cc:112] Plugin optimizer for device_type GPU is enabled.\n",
      "2021-11-24 21:20:25.562959: I tensorflow/core/grappler/optimizers/custom_graph_optimizer_registry.cc:112] Plugin optimizer for device_type GPU is enabled.\n"
     ]
    },
    {
     "name": "stdout",
     "output_type": "stream",
     "text": [
      "Epoch: 1 starting with accuracy 0.6217052715654952\n",
      "Epoch: 2 starting with accuracy 0.7449081469648562\n",
      "Epoch: 3 starting with accuracy 0.7714656549520766\n",
      "Epoch: 4 starting with accuracy 0.8009185303514377\n",
      "Epoch: 5 starting with accuracy 0.7790535143769968\n",
      "Epoch: 6 starting with accuracy 0.8041134185303515\n",
      "Epoch: 7 starting with accuracy 0.7999201277955271\n",
      "Epoch: 8 starting with accuracy 0.8279752396166135\n",
      "Epoch: 9 starting with accuracy 0.8304712460063898\n"
     ]
    }
   ],
   "source": [
    "# Hyperparameters\n",
    "num_epochs = 10\n",
    "learning_rate = 0.1\n",
    "\n",
    "\n",
    "model = MyModel()\n",
    "# Initialize the loss: categorical cross entropy. Check out 'tf.keras.losses'.\n",
    "cross_entropy_loss = tf.keras.losses.CategoricalCrossentropy()\n",
    "# Initialize the optimizer: SGD with default parameters. Check out 'tf.keras.optimizers'\n",
    "optimizer = tf.keras.optimizers.SGD(learning_rate)\n",
    "\n",
    "# Initialize lists for later visualization.\n",
    "train_losses = []\n",
    "\n",
    "test_losses = []\n",
    "test_accuracies = []\n",
    "\n",
    "#testing once before we begin\n",
    "test_loss, test_accuracy = test(model, test_ds, cross_entropy_loss)\n",
    "test_losses.append(test_loss)\n",
    "test_accuracies.append(test_accuracy)\n",
    "\n",
    "#check how model performs on train data once before we begin\n",
    "train_loss, _ = test(model, train_ds, cross_entropy_loss)\n",
    "train_losses.append(train_loss)\n",
    "\n",
    "# We train for num_epochs epochs.\n",
    "for epoch in range(num_epochs):\n",
    "    print(f'Epoch: {str(epoch)} starting with accuracy {test_accuracies[-1]}')\n",
    "\n",
    "    #training (and checking in with training)\n",
    "    epoch_loss_agg = []\n",
    "    for input,target in train_ds:\n",
    "        train_loss = train_step(model, input, target, cross_entropy_loss, optimizer)\n",
    "        epoch_loss_agg.append(train_loss)\n",
    "    \n",
    "    #track training loss\n",
    "    train_losses.append(tf.reduce_mean(epoch_loss_agg))\n",
    "\n",
    "    #testing, so we can track accuracy and test loss\n",
    "    test_loss, test_accuracy = test(model, test_ds, cross_entropy_loss)\n",
    "    test_losses.append(test_loss)\n",
    "    test_accuracies.append(test_accuracy)"
   ]
  },
  {
   "cell_type": "code",
   "execution_count": 72,
   "id": "127f5510",
   "metadata": {},
   "outputs": [
    {
     "data": {
      "image/png": "[encoded data removed]",
      "text/plain": [
       "<Figure size 432x288 with 1 Axes>"
      ]
     },
     "metadata": {
      "needs_background": "light"
     },
     "output_type": "display_data"
    }
   ],
   "source": [
    "import matplotlib.pyplot as plt\n",
    "\n",
    "# Visualize accuracy and loss for training and test data.\n",
    "plt.figure()\n",
    "line1, = plt.plot(train_losses)\n",
    "line2, = plt.plot(test_losses)\n",
    "line3, = plt.plot(test_accuracies)\n",
    "plt.xlabel(\"Training steps\")\n",
    "plt.ylabel(\"Loss/Accuracy\")\n",
    "plt.legend((line1,line2, line3),(\"training\",\"test\", \"test accuracy\"))\n",
    "plt.show()"
   ]
  }
 ],
 "metadata": {
  "kernelspec": {
   "display_name": "Python 3.9 (tensorflow)",
   "language": "python",
   "name": "tensorflow"
  },
  "language_info": {
   "codemirror_mode": {
    "name": "ipython",
    "version": 3
   },
   "file_extension": ".py",
   "mimetype": "text/x-python",
   "name": "python",
   "nbconvert_exporter": "python",
   "pygments_lexer": "ipython3",
   "version": "3.9.7"
  }
 },
 "nbformat": 4,
 "nbformat_minor": 5
}
