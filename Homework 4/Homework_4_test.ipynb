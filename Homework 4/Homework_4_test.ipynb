{
  "cells": [
    {
      "cell_type": "code",
      "execution_count": 145,
      "metadata": {
        "id": "S1U4WZ7ZvRU9"
      },
      "outputs": [],
      "source": [
        "import tensorflow as tf\n",
        "import tensorflow_datasets as tfds\n",
        "import pandas as pd\n",
        "import numpy as np\n",
        "import matplotlib.pyplot as plt\n"
      ]
    },
    {
      "cell_type": "code",
      "execution_count": 146,
      "metadata": {
        "colab": {
          "base_uri": "https://localhost:8080/",
          "height": 224
        },
        "id": "cpqqSKxgxWoP",
        "outputId": "6dda1b45-1b11-4b97-eca4-a6e8c8278aa4"
      },
      "outputs": [
        {
          "data": {
            "text/html": [
              "<div>\n",
              "<style scoped>\n",
              "    .dataframe tbody tr th:only-of-type {\n",
              "        vertical-align: middle;\n",
              "    }\n",
              "\n",
              "    .dataframe tbody tr th {\n",
              "        vertical-align: top;\n",
              "    }\n",
              "\n",
              "    .dataframe thead th {\n",
              "        text-align: right;\n",
              "    }\n",
              "</style>\n",
              "<table border=\"1\" class=\"dataframe\">\n",
              "  <thead>\n",
              "    <tr style=\"text-align: right;\">\n",
              "      <th></th>\n",
              "      <th>fixed acidity</th>\n",
              "      <th>volatile acidity</th>\n",
              "      <th>citric acid</th>\n",
              "      <th>residual sugar</th>\n",
              "      <th>chlorides</th>\n",
              "      <th>free sulfur dioxide</th>\n",
              "      <th>total sulfur dioxide</th>\n",
              "      <th>density</th>\n",
              "      <th>pH</th>\n",
              "      <th>sulphates</th>\n",
              "      <th>alcohol</th>\n",
              "      <th>quality</th>\n",
              "    </tr>\n",
              "  </thead>\n",
              "  <tbody>\n",
              "    <tr>\n",
              "      <th>0</th>\n",
              "      <td>7.4</td>\n",
              "      <td>0.70</td>\n",
              "      <td>0.00</td>\n",
              "      <td>1.9</td>\n",
              "      <td>0.076</td>\n",
              "      <td>11.0</td>\n",
              "      <td>34.0</td>\n",
              "      <td>0.9978</td>\n",
              "      <td>3.51</td>\n",
              "      <td>0.56</td>\n",
              "      <td>9.4</td>\n",
              "      <td>5</td>\n",
              "    </tr>\n",
              "    <tr>\n",
              "      <th>1</th>\n",
              "      <td>7.8</td>\n",
              "      <td>0.88</td>\n",
              "      <td>0.00</td>\n",
              "      <td>2.6</td>\n",
              "      <td>0.098</td>\n",
              "      <td>25.0</td>\n",
              "      <td>67.0</td>\n",
              "      <td>0.9968</td>\n",
              "      <td>3.20</td>\n",
              "      <td>0.68</td>\n",
              "      <td>9.8</td>\n",
              "      <td>5</td>\n",
              "    </tr>\n",
              "    <tr>\n",
              "      <th>2</th>\n",
              "      <td>7.8</td>\n",
              "      <td>0.76</td>\n",
              "      <td>0.04</td>\n",
              "      <td>2.3</td>\n",
              "      <td>0.092</td>\n",
              "      <td>15.0</td>\n",
              "      <td>54.0</td>\n",
              "      <td>0.9970</td>\n",
              "      <td>3.26</td>\n",
              "      <td>0.65</td>\n",
              "      <td>9.8</td>\n",
              "      <td>5</td>\n",
              "    </tr>\n",
              "    <tr>\n",
              "      <th>3</th>\n",
              "      <td>11.2</td>\n",
              "      <td>0.28</td>\n",
              "      <td>0.56</td>\n",
              "      <td>1.9</td>\n",
              "      <td>0.075</td>\n",
              "      <td>17.0</td>\n",
              "      <td>60.0</td>\n",
              "      <td>0.9980</td>\n",
              "      <td>3.16</td>\n",
              "      <td>0.58</td>\n",
              "      <td>9.8</td>\n",
              "      <td>6</td>\n",
              "    </tr>\n",
              "    <tr>\n",
              "      <th>4</th>\n",
              "      <td>7.4</td>\n",
              "      <td>0.70</td>\n",
              "      <td>0.00</td>\n",
              "      <td>1.9</td>\n",
              "      <td>0.076</td>\n",
              "      <td>11.0</td>\n",
              "      <td>34.0</td>\n",
              "      <td>0.9978</td>\n",
              "      <td>3.51</td>\n",
              "      <td>0.56</td>\n",
              "      <td>9.4</td>\n",
              "      <td>5</td>\n",
              "    </tr>\n",
              "  </tbody>\n",
              "</table>\n",
              "</div>"
            ],
            "text/plain": [
              "   fixed acidity  volatile acidity  citric acid  residual sugar  chlorides  \\\n",
              "0            7.4              0.70         0.00             1.9      0.076   \n",
              "1            7.8              0.88         0.00             2.6      0.098   \n",
              "2            7.8              0.76         0.04             2.3      0.092   \n",
              "3           11.2              0.28         0.56             1.9      0.075   \n",
              "4            7.4              0.70         0.00             1.9      0.076   \n",
              "\n",
              "   free sulfur dioxide  total sulfur dioxide  density    pH  sulphates  \\\n",
              "0                 11.0                  34.0   0.9978  3.51       0.56   \n",
              "1                 25.0                  67.0   0.9968  3.20       0.68   \n",
              "2                 15.0                  54.0   0.9970  3.26       0.65   \n",
              "3                 17.0                  60.0   0.9980  3.16       0.58   \n",
              "4                 11.0                  34.0   0.9978  3.51       0.56   \n",
              "\n",
              "   alcohol  quality  \n",
              "0      9.4        5  \n",
              "1      9.8        5  \n",
              "2      9.8        5  \n",
              "3      9.8        6  \n",
              "4      9.4        5  "
            ]
          },
          "execution_count": 146,
          "metadata": {},
          "output_type": "execute_result"
        }
      ],
      "source": [
        "#load dataset\n",
        "wine_data = pd.read_csv(\"https://archive.ics.uci.edu/ml/machine-learning-databases/wine-quality/winequality-red.csv\",sep =\";\")\n",
        "wine_data.head()"
      ]
    },
    {
      "cell_type": "code",
      "execution_count": 147,
      "metadata": {
        "colab": {
          "base_uri": "https://localhost:8080/"
        },
        "id": "PQmD6W3Qy787",
        "outputId": "a40a2052-6d94-4644-b85b-54bb1a6f770d"
      },
      "outputs": [
        {
          "name": "stdout",
          "output_type": "stream",
          "text": [
            "Interesting for input: Index(['fixed acidity', 'volatile acidity', 'citric acid', 'residual sugar',\n",
            "       'chlorides', 'free sulfur dioxide', 'total sulfur dioxide', 'density',\n",
            "       'pH', 'sulphates', 'alcohol'],\n",
            "      dtype='object')\n",
            "Target value: quality\n"
          ]
        }
      ],
      "source": [
        "#Data exploration\n",
        "keys = wine_data.keys()\n",
        "\n",
        "#input keys\n",
        "print(\"Interesting for input:\" ,keys[:-1])\n",
        "\n",
        "# target\n",
        "print(\"Target value:\", keys[-1])"
      ]
    },
    {
      "cell_type": "code",
      "execution_count": 148,
      "metadata": {
        "id": "9nNJU07g0Aos"
      },
      "outputs": [],
      "source": [
        "# Split dataset\n",
        "full_size = len(wine_data)\n",
        "\n",
        "train_size = int(0.7 * full_size)\n",
        "valid_size = int(0.15 * full_size)\n",
        "\n",
        "train_ds, validate_ds, test_ds = \\\n",
        "              np.split(wine_data.sample(frac=1, random_state=42), \n",
        "                       [train_size,train_size + valid_size])\n",
        "              "
      ]
    },
    {
      "cell_type": "code",
      "execution_count": 149,
      "metadata": {
        "id": "ngGyO30B71UV"
      },
      "outputs": [],
      "source": [
        "# seperate lables from input\n",
        "train_label = train_ds[\"quality\"]\n",
        "train_input = train_ds.drop(\"quality\", axis = 1)\n",
        "\n",
        "test_label = test_ds[\"quality\"]\n",
        "test_input = test_ds.drop(\"quality\", axis = 1)\n",
        "\n",
        "validate_label = validate_ds[\"quality\"]\n",
        "validate_input = validate_ds.drop(\"quality\", axis = 1)"
      ]
    },
    {
      "cell_type": "code",
      "execution_count": 150,
      "metadata": {
        "id": "Zz1V5ff16uFV"
      },
      "outputs": [],
      "source": [
        "# default threshold everything above 5 is good \n",
        "def make_binary(target, threshold = 5):\n",
        "  return int(target > threshold)\n"
      ]
    },
    {
      "cell_type": "code",
      "execution_count": 151,
      "metadata": {
        "colab": {
          "base_uri": "https://localhost:8080/"
        },
        "id": "ZMLWhnNpDiQ9",
        "outputId": "48cbb249-a0c0-4df7-8bf4-792158b307c4"
      },
      "outputs": [
        {
          "name": "stdout",
          "output_type": "stream",
          "text": [
            "(1119, 11)\n"
          ]
        }
      ],
      "source": [
        "print(train_input.shape)"
      ]
    },
    {
      "cell_type": "code",
      "execution_count": 152,
      "metadata": {
        "id": "4zNrBRpq7QVD"
      },
      "outputs": [],
      "source": [
        "# Build tensorflow dataset\n",
        "training_data =tf.data.Dataset.from_tensor_slices((train_input, train_label))\n",
        "testing_data = tf.data.Dataset.from_tensor_slices((test_input, test_label))\n",
        "validation_data = tf.data.Dataset.from_tensor_slices((validate_input, validate_label))\n"
      ]
    },
    {
      "cell_type": "code",
      "execution_count": 153,
      "metadata": {
        "id": "eGlhQO_AAp_6"
      },
      "outputs": [],
      "source": [
        "def prepare_data(dataset):\n",
        "  dataset = dataset.map(lambda inputs , target: (inputs, make_binary(target)))\n",
        "  dataset = dataset.batch(20).prefetch(20)\n",
        "  return dataset"
      ]
    },
    {
      "cell_type": "code",
      "execution_count": 154,
      "metadata": {
        "id": "mxtw6IDRCSVs"
      },
      "outputs": [],
      "source": [
        "train_data = prepare_data(training_data)\n",
        "test_data = prepare_data(testing_data)\n",
        "validation_data = prepare_data(validation_data)"
      ]
    },
    {
      "cell_type": "code",
      "execution_count": 155,
      "metadata": {
        "id": "gn1cydp6OgP8"
      },
      "outputs": [
        {
          "name": "stdout",
          "output_type": "stream",
          "text": [
            "tf.Tensor(\n",
            "[[7.7000e+00 5.6000e-01 8.0000e-02 2.5000e+00 1.1400e-01 1.4000e+01\n",
            "  4.6000e+01 9.9710e-01 3.2400e+00 6.6000e-01 9.6000e+00]\n",
            " [7.8000e+00 5.0000e-01 1.7000e-01 1.6000e+00 8.2000e-02 2.1000e+01\n",
            "  1.0200e+02 9.9600e-01 3.3900e+00 4.8000e-01 9.5000e+00]\n",
            " [1.0700e+01 6.7000e-01 2.2000e-01 2.7000e+00 1.0700e-01 1.7000e+01\n",
            "  3.4000e+01 1.0004e+00 3.2800e+00 9.8000e-01 9.9000e+00]\n",
            " [8.5000e+00 4.6000e-01 3.1000e-01 2.2500e+00 7.8000e-02 3.2000e+01\n",
            "  5.8000e+01 9.9800e-01 3.3300e+00 5.4000e-01 9.8000e+00]\n",
            " [6.7000e+00 4.6000e-01 2.4000e-01 1.7000e+00 7.7000e-02 1.8000e+01\n",
            "  3.4000e+01 9.9480e-01 3.3900e+00 6.0000e-01 1.0600e+01]\n",
            " [7.2000e+00 4.1000e-01 3.0000e-01 2.1000e+00 8.3000e-02 3.5000e+01\n",
            "  7.2000e+01 9.9700e-01 3.4400e+00 5.2000e-01 9.4000e+00]\n",
            " [7.7000e+00 5.4000e-01 2.6000e-01 1.9000e+00 8.9000e-02 2.3000e+01\n",
            "  1.4700e+02 9.9636e-01 3.2600e+00 5.9000e-01 9.7000e+00]\n",
            " [7.0000e+00 7.8000e-01 8.0000e-02 2.0000e+00 9.3000e-02 1.0000e+01\n",
            "  1.9000e+01 9.9560e-01 3.4000e+00 4.7000e-01 1.0000e+01]\n",
            " [8.2000e+00 3.9000e-01 3.8000e-01 1.5000e+00 5.8000e-02 1.0000e+01\n",
            "  2.9000e+01 9.9620e-01 3.2600e+00 7.4000e-01 9.8000e+00]\n",
            " [5.8000e+00 6.1000e-01 1.1000e-01 1.8000e+00 6.6000e-02 1.8000e+01\n",
            "  2.8000e+01 9.9483e-01 3.5500e+00 6.6000e-01 1.0900e+01]\n",
            " [1.0500e+01 5.1000e-01 6.4000e-01 2.4000e+00 1.0700e-01 6.0000e+00\n",
            "  1.5000e+01 9.9730e-01 3.0900e+00 6.6000e-01 1.1800e+01]\n",
            " [6.7000e+00 7.6000e-01 2.0000e-02 1.8000e+00 7.8000e-02 6.0000e+00\n",
            "  1.2000e+01 9.9600e-01 3.5500e+00 6.3000e-01 9.9500e+00]\n",
            " [6.7000e+00 4.8000e-01 8.0000e-02 2.1000e+00 6.4000e-02 1.8000e+01\n",
            "  3.4000e+01 9.9552e-01 3.3300e+00 6.4000e-01 9.7000e+00]\n",
            " [7.0000e+00 5.6000e-01 1.3000e-01 1.6000e+00 7.7000e-02 2.5000e+01\n",
            "  4.2000e+01 9.9629e-01 3.3400e+00 5.9000e-01 9.2000e+00]\n",
            " [7.8000e+00 3.4000e-01 3.7000e-01 2.0000e+00 8.2000e-02 2.4000e+01\n",
            "  5.8000e+01 9.9640e-01 3.3400e+00 5.9000e-01 9.4000e+00]\n",
            " [8.9000e+00 2.8000e-01 4.5000e-01 1.7000e+00 6.7000e-02 7.0000e+00\n",
            "  1.2000e+01 9.9354e-01 3.2500e+00 5.5000e-01 1.2300e+01]\n",
            " [6.7000e+00 6.7500e-01 7.0000e-02 2.4000e+00 8.9000e-02 1.7000e+01\n",
            "  8.2000e+01 9.9580e-01 3.3500e+00 5.4000e-01 1.0100e+01]\n",
            " [1.0100e+01 4.3000e-01 4.0000e-01 2.6000e+00 9.2000e-02 1.3000e+01\n",
            "  5.2000e+01 9.9834e-01 3.2200e+00 6.4000e-01 1.0000e+01]\n",
            " [9.4000e+00 3.0000e-01 5.6000e-01 2.8000e+00 8.0000e-02 6.0000e+00\n",
            "  1.7000e+01 9.9640e-01 3.1500e+00 9.2000e-01 1.1700e+01]\n",
            " [8.4000e+00 7.4500e-01 1.1000e-01 1.9000e+00 9.0000e-02 1.6000e+01\n",
            "  6.3000e+01 9.9650e-01 3.1900e+00 8.2000e-01 9.6000e+00]], shape=(20, 11), dtype=float64)\n",
            "tf.Tensor([1 0 1 0 1 0 0 0 0 1 1 0 0 0 1 1 0 1 1 0], shape=(20,), dtype=int32)\n"
          ]
        }
      ],
      "source": [
        "for input, target in train_data.take(1):\n",
        "  print(input)\n",
        "  print(target)"
      ]
    },
    {
      "cell_type": "code",
      "execution_count": 156,
      "metadata": {
        "id": "aQcNtKkTEiUP"
      },
      "outputs": [],
      "source": [
        "# Model\n",
        "#Build model \n",
        "class MyModel(tf.keras.Model):\n",
        "    \n",
        "    def __init__(self):\n",
        "        super(MyModel, self).__init__()\n",
        "        self.dense1 = tf.keras.layers.Dense(64, activation=tf.nn.sigmoid)\n",
        "        self.dense2 = tf.keras.layers.Dense(1000, activation=tf.nn.sigmoid)\n",
        "        self.out = tf.keras.layers.Dense(1,activation=tf.nn.sigmoid)\n",
        "\n",
        "    @tf.function\n",
        "    def call(self, inputs):\n",
        "        x = self.dense1(inputs)\n",
        "        x = self.dense2(x)\n",
        "        x = self.out(x)\n",
        "        return x"
      ]
    },
    {
      "cell_type": "code",
      "execution_count": 157,
      "metadata": {
        "id": "SSq8OFQrFMkY"
      },
      "outputs": [],
      "source": [
        "@tf.function\n",
        "def train_step(model, input, target, loss_function, optimizer):\n",
        "  # loss_object and optimizer_object are instances of respective tensorflow classes\n",
        "  with tf.GradientTape() as tape:\n",
        "    prediction = model(input)\n",
        "    loss = loss_function(target, prediction)\n",
        "    gradients = tape.gradient(loss, model.trainable_variables)\n",
        "  optimizer.apply_gradients(zip(gradients, model.trainable_variables))\n",
        "  return loss\n",
        "\n",
        "\n",
        "def test(model, test_data, loss_function):\n",
        "  # test over complete test data\n",
        "\n",
        "  test_accuracy_aggregator = []\n",
        "  test_loss_aggregator = []\n",
        "\n",
        "  for (input, target) in test_data:\n",
        "    prediction = model(input)\n",
        "    sample_test_loss = loss_function(target, prediction)\n",
        "    sample_test_accuracy = np.round(target,0) == np.round(prediction,0)\n",
        "    sample_test_accuracy = np.mean(sample_test_accuracy)\n",
        "    test_loss_aggregator.append(sample_test_loss.numpy())\n",
        "    test_accuracy_aggregator.append(np.mean(sample_test_accuracy))\n",
        "\n",
        "  test_loss = tf.reduce_mean(test_loss_aggregator)\n",
        "  test_accuracy = tf.reduce_mean(test_accuracy_aggregator)\n",
        "\n",
        "  return test_loss, test_accuracy"
      ]
    },
    {
      "cell_type": "code",
      "execution_count": 158,
      "metadata": {
        "colab": {
          "base_uri": "https://localhost:8080/",
          "height": 747
        },
        "id": "W_VAmqMNFoQu",
        "outputId": "b1f1084b-aa57-41f9-b1a6-7ab7007026ee"
      },
      "outputs": [
        {
          "name": "stderr",
          "output_type": "stream",
          "text": [
            "2021-11-18 13:40:36.675428: I tensorflow/core/grappler/optimizers/custom_graph_optimizer_registry.cc:112] Plugin optimizer for device_type GPU is enabled.\n",
            "2021-11-18 13:40:36.738977: I tensorflow/core/grappler/optimizers/custom_graph_optimizer_registry.cc:112] Plugin optimizer for device_type GPU is enabled.\n",
            "2021-11-18 13:40:36.954799: I tensorflow/core/grappler/optimizers/custom_graph_optimizer_registry.cc:112] Plugin optimizer for device_type GPU is enabled.\n",
            "2021-11-18 13:40:37.053438: I tensorflow/core/grappler/optimizers/custom_graph_optimizer_registry.cc:112] Plugin optimizer for device_type GPU is enabled.\n"
          ]
        },
        {
          "name": "stdout",
          "output_type": "stream",
          "text": [
            "Epoch: 0 starting with accuracy 0.5884615384615385\n"
          ]
        },
        {
          "name": "stderr",
          "output_type": "stream",
          "text": [
            "2021-11-18 13:40:37.266260: I tensorflow/core/grappler/optimizers/custom_graph_optimizer_registry.cc:112] Plugin optimizer for device_type GPU is enabled.\n"
          ]
        },
        {
          "name": "stdout",
          "output_type": "stream",
          "text": [
            "Epoch: 1 starting with accuracy 0.5884615384615385\n",
            "Epoch: 2 starting with accuracy 0.5269230769230769\n",
            "Epoch: 3 starting with accuracy 0.4115384615384615\n",
            "Epoch: 4 starting with accuracy 0.4115384615384615\n",
            "Epoch: 5 starting with accuracy 0.49615384615384617\n",
            "Epoch: 6 starting with accuracy 0.5046153846153847\n",
            "Epoch: 7 starting with accuracy 0.5169230769230769\n",
            "Epoch: 8 starting with accuracy 0.5373076923076923\n",
            "Epoch: 9 starting with accuracy 0.5465384615384615\n"
          ]
        }
      ],
      "source": [
        "tf.keras.backend.clear_session()\n",
        "\n",
        "train_dataset = train_data\n",
        "test_dataset = test_data\n",
        "\n",
        "### Hyperparameters\n",
        "num_epochs = 10\n",
        "learning_rate = 0.1\n",
        "\n",
        "# Initialize the model.\n",
        "model = MyModel()\n",
        "# Initialize the loss: categorical cross entropy. Check out 'tf.keras.losses'.\n",
        "cross_entropy_loss = tf.keras.losses.BinaryCrossentropy()\n",
        "# Initialize the optimizer: SGD with default parameters. Check out 'tf.keras.optimizers'\n",
        "optimizer = tf.keras.optimizers.SGD(learning_rate)\n",
        "\n",
        "# Initialize lists for later visualization.\n",
        "train_losses = []\n",
        "\n",
        "test_losses = []\n",
        "test_accuracies = []\n",
        "\n",
        "#testing once before we begin\n",
        "test_loss, test_accuracy = test(model, test_dataset, cross_entropy_loss)\n",
        "test_losses.append(test_loss)\n",
        "test_accuracies.append(test_accuracy)\n",
        "\n",
        "#check how model performs on train data once before we begin\n",
        "train_loss, _ = test(model, train_dataset,cross_entropy_loss)\n",
        "train_losses.append(train_loss)\n",
        "\n",
        "# We train for num_epochs epochs.\n",
        "for epoch in range(num_epochs):\n",
        "    print(f'Epoch: {str(epoch)} starting with accuracy {test_accuracies[-1]}')\n",
        "\n",
        "    #training (and checking in with training)\n",
        "    epoch_loss_agg = []\n",
        "    for i, (input,target) in enumerate(train_dataset):\n",
        "        train_loss = train_step(model, input, target, cross_entropy_loss, optimizer)\n",
        "        epoch_loss_agg.append(train_loss)\n",
        "          \n",
        "    #track training loss\n",
        "    train_losses.append(tf.reduce_mean(epoch_loss_agg))\n",
        "\n",
        "    #testing, so we can track accuracy and test loss\n",
        "    test_loss, test_accuracy = test(model, test_dataset, cross_entropy_loss)\n",
        "    test_losses.append(test_loss)\n",
        "    test_accuracies.append(test_accuracy)"
      ]
    },
    {
      "cell_type": "code",
      "execution_count": 159,
      "metadata": {
        "id": "q_WUYD5fOe-e"
      },
      "outputs": [],
      "source": [
        "# Fine tuning"
      ]
    },
    {
      "cell_type": "code",
      "execution_count": 160,
      "metadata": {
        "id": "HJiDd4OoYhtF"
      },
      "outputs": [],
      "source": [
        "# Visualization"
      ]
    }
  ],
  "metadata": {
    "colab": {
      "collapsed_sections": [],
      "name": "Untitled4.ipynb",
      "provenance": []
    },
    "kernelspec": {
      "display_name": "Python 3",
      "name": "python3"
    },
    "language_info": {
      "codemirror_mode": {
        "name": "ipython",
        "version": 3
      },
      "file_extension": ".py",
      "mimetype": "text/x-python",
      "name": "python",
      "nbconvert_exporter": "python",
      "pygments_lexer": "ipython3",
      "version": "3.9.7"
    }
  },
  "nbformat": 4,
  "nbformat_minor": 0
}
