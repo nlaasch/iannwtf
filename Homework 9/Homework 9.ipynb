{
 "cells": [
  {
   "cell_type": "markdown",
   "metadata": {},
   "source": [
    "# Load Dataset\n"
   ]
  },
  {
   "cell_type": "code",
<<<<<<< HEAD
   "execution_count": 117,
=======
   "execution_count": 1,
>>>>>>> cd572c68544732c87348a20d6d4b3871d2a780f2
   "metadata": {},
   "outputs": [],
   "source": [
    "import tensorflow as tf \n",
    "import tensorflow_datasets as tfds \n",
    "import os\n",
    "import glob\n",
    "import imageio\n",
    "import matplotlib.pyplot as plt\n",
    "import numpy as np\n",
    "import PIL\n",
    "from tensorflow.keras import layers, Model\n",
    "from tensorflow.keras.layers import Dense, Layer, Conv2D, MaxPooling2D, GlobalAveragePooling2D,BatchNormalization, Reshape, Conv2DTranspose, Dropout, LeakyReLU, Flatten\n",
    "import time\n",
    "from IPython import display\n",
    "from tqdm import tqdm\n",
    "import datetime"
   ]
  },
  {
   "cell_type": "code",
<<<<<<< HEAD
   "execution_count": 118,
=======
   "execution_count": 2,
>>>>>>> cd572c68544732c87348a20d6d4b3871d2a780f2
   "metadata": {},
   "outputs": [
    {
     "name": "stdout",
     "output_type": "stream",
     "text": [
      "[b'aircraft carrier', b'airplane', b'alarm clock', b'ambulance', b'angel', b'animal migration', b'ant', b'anvil', b'apple', b'arm']\n"
     ]
    }
   ],
   "source": [
    "import urllib\n",
    "categories = [line.rstrip(b'\\n') for line in urllib.request.urlopen('https://raw.githubusercontent.com/googlecreativelab/quickdraw-dataset/master/categories.txt')]\n",
    "print(categories[:10])\n",
    "category = 'candle'"
   ]
  },
  {
   "cell_type": "code",
<<<<<<< HEAD
   "execution_count": 119,
=======
   "execution_count": 3,
>>>>>>> cd572c68544732c87348a20d6d4b3871d2a780f2
   "metadata": {},
   "outputs": [
    {
     "name": "stdout",
     "output_type": "stream",
     "text": [
      "141545 images to train on\n",
      "28309\n",
      "113236\n"
     ]
    }
   ],
   "source": [
    "# Creates a folder to download the original drawings into.\n",
    "# We chose to use the numpy format : 1x784 pixel vectors, with values going from 0 (white) to 255 (black). We reshape them later to 28x28 grids and normalize the pixel intensity to [-1, 1]\n",
    "\n",
    "if not os.path.isdir('npy_files'):\n",
    "    os.mkdir('npy_files')\n",
    "    \n",
    "url = f'https://storage.googleapis.com/quickdraw_dataset/full/numpy_bitmap/{category}.npy'  \n",
    "urllib.request.urlretrieve(url, f'npy_files/{category}.npy')\n",
    "\n",
    "images = np.load(f'npy_files/{category}.npy')\n",
    "print(f'{len(images)} images to train on')\n",
    "\n",
    "# You can limit the amount of images you use for training by setting :\n",
    "train = int(len(images)*0.8)\n",
    "train_images = images[:train]\n",
    "# You should also define a samller subset of the images for testing..\n",
    "# TODO\n",
    "test_images = images[train:]\n",
    "print(len(test_images))\n",
    "print(len(train_images))\n",
    "# Notice that this to numpy format contains 1x784 pixel vectors, with values going from 0 (white) to 255 (black). We reshape them later to 28x28 grids and normalize the pixel intensity to [-1, 1]"
   ]
  },
  {
   "cell_type": "code",
<<<<<<< HEAD
   "execution_count": 120,
=======
   "execution_count": 4,
>>>>>>> cd572c68544732c87348a20d6d4b3871d2a780f2
   "metadata": {},
   "outputs": [],
   "source": [
    "# define shuffle and batching sizes\n",
    "batch_size = 128\n",
    "shuffle_size = 10000\n",
    "prefetch_size = 8"
   ]
  },
  {
   "cell_type": "code",
<<<<<<< HEAD
   "execution_count": 121,
=======
   "execution_count": 5,
>>>>>>> cd572c68544732c87348a20d6d4b3871d2a780f2
   "metadata": {},
   "outputs": [],
   "source": [
    "def preprocess(data):\n",
    "    # change dtype of images\n",
    "    data = data.map(lambda img: tf.cast(img, tf.float32))\n",
    "    # change value range from 0-255 to -1 - 1\n",
    "    data = data.map(lambda img: (img/128)-1)\n",
    "    # change format/shape to 28,28,1\n",
    "    data = data.map(lambda img: tf.reshape(img, (28,28,1)))\n",
    "\n",
    "    # do other prepocessing stuff\n",
    "    data = data.shuffle(shuffle_size).batch(batch_size).prefetch(prefetch_size)\n",
    "    return data\n",
    "\n",
    "\n"
   ]
  },
  {
   "cell_type": "markdown",
   "metadata": {},
   "source": [
    "# Data Pipeline\n"
   ]
  },
  {
   "cell_type": "code",
<<<<<<< HEAD
   "execution_count": 122,
=======
   "execution_count": 6,
>>>>>>> cd572c68544732c87348a20d6d4b3871d2a780f2
   "metadata": {},
   "outputs": [
    {
     "name": "stdout",
     "output_type": "stream",
     "text": [
      "Metal device set to: Apple M1\n",
      "\n",
      "systemMemory: 8.00 GB\n",
      "maxCacheSize: 2.67 GB\n",
      "\n"
     ]
    },
    {
     "name": "stderr",
     "output_type": "stream",
     "text": [
      "2022-01-16 17:49:10.871612: I tensorflow/core/common_runtime/pluggable_device/pluggable_device_factory.cc:305] Could not identify NUMA node of platform GPU ID 0, defaulting to 0. Your kernel may not have been built with NUMA support.\n",
      "2022-01-16 17:49:10.872552: I tensorflow/core/common_runtime/pluggable_device/pluggable_device_factory.cc:271] Created TensorFlow device (/job:localhost/replica:0/task:0/device:GPU:0 with 0 MB memory) -> physical PluggableDevice (device: 0, name: METAL, pci bus id: <undefined>)\n"
     ]
    }
   ],
   "source": [
    "# create datasets from tensor\n",
    "train_ds = tf.data.Dataset.from_tensor_slices(train_images)\n",
    "test_ds = tf.data.Dataset.from_tensor_slices(test_images)\n",
    "\n",
    "\n",
    "# preprocess datasets\n",
    "train_ds = preprocess(train_ds)\n",
    "test_ds = preprocess(test_ds)\n"
   ]
  },
  {
   "cell_type": "markdown",
   "metadata": {},
   "source": [
    "# Discriminator "
   ]
  },
  {
   "cell_type": "code",
<<<<<<< HEAD
   "execution_count": 124,
=======
   "execution_count": 7,
>>>>>>> cd572c68544732c87348a20d6d4b3871d2a780f2
   "metadata": {},
   "outputs": [],
   "source": [
    "class Discriminator2(Model):\n",
    "    def __init__(self):\n",
    "        super(Discriminator2, self).__init__()\n",
    "\n",
    "        self.optimizer = tf.keras.optimizers.Adam()\n",
    "\n",
    "        self.loss_function = tf.keras.losses.BinaryCrossentropy()\n",
    "        \n",
    "        self.input_layer = tf.keras.Input(shape=(28,28,1))\n",
    "        \n",
    "        self.l = [\n",
    "            Conv2D(32, kernel_size=3, strides=2, padding='same'),\n",
    "            BatchNormalization(),\n",
    "            LeakyReLU(),\n",
    "            Dropout(0.2),\n",
    "\n",
    "            Conv2D(32, kernel_size=3, strides=2, padding='same'),\n",
    "            BatchNormalization(),\n",
    "            LeakyReLU(),\n",
    "            Dropout(0.2),\n",
    "            Flatten(),\n",
    "            Dense(units=1, activation='sigmoid', kernel_regularizer=tf.keras.regularizers.L2(0.01))\n",
    "        ]\n",
    "        self.out = self.call(self.input_layer, training=True)\n",
    "\n",
    "\n",
    "    def call(self, x, training=False):\n",
    "        for layer in self.l:\n",
    "            try:\n",
    "                x = layer(x, training=training)\n",
    "            except:\n",
    "                x = layer(x)\n",
    "        \n",
    "        return x"
   ]
  },
  {
   "cell_type": "markdown",
   "metadata": {},
   "source": [
    "# Generator Class\n"
   ]
  },
  {
   "cell_type": "code",
<<<<<<< HEAD
   "execution_count": 126,
=======
   "execution_count": 8,
>>>>>>> cd572c68544732c87348a20d6d4b3871d2a780f2
   "metadata": {},
   "outputs": [],
   "source": [
    "class Generator2(Model):\n",
    "    def __init__(self):\n",
    "        super(Generator2, self).__init__()\n",
    "        \n",
    "        self.optimizer = tf.keras.optimizers.Adam()\n",
    "\n",
    "        self.loss_function = tf.keras.losses.BinaryCrossentropy()\n",
    "        \n",
    "        self.input_layer = tf.keras.layers.Input(shape=(100))\n",
    "        self.l = [\n",
    "            Dense(units=7*7*128, use_bias=False, kernel_regularizer=tf.keras.regularizers.L2(0.01)),\n",
    "            BatchNormalization(),\n",
    "            LeakyReLU(),\n",
    "\n",
    "            Reshape(target_shape=(7, 7, 128)),\n",
    "\n",
    "            Conv2DTranspose(filters=64, kernel_size=3, strides=2, padding='same', kernel_regularizer=tf.keras.regularizers.L2(0.01)),\n",
    "            BatchNormalization(),\n",
    "            LeakyReLU(),\n",
    "            Dropout(0.2),\n",
    "\n",
    "            Conv2DTranspose(filters=32, kernel_size=3, strides=2, padding='same', kernel_regularizer=tf.keras.regularizers.L2(0.01)),\n",
    "            BatchNormalization(),\n",
    "            LeakyReLU(),\n",
    "            Dropout(0.2),\n",
    "\n",
    "            Conv2D(filters=1, kernel_size=3, strides=1, padding='same', activation='tanh', kernel_regularizer=tf.keras.regularizers.L2(0.01))\n",
    "        ]\n",
    "        self.out = self.call(self.input_layer, training=True)\n",
    "\n",
    "\n",
    "    def call(self, x, training):\n",
    "        for layer in self.l:\n",
    "            try:\n",
    "                x = layer(x, training)\n",
    "            except:\n",
    "                x = layer(x)\n",
    "        \n",
    "        return x"
   ]
  },
  {
   "cell_type": "code",
<<<<<<< HEAD
   "execution_count": 133,
=======
   "execution_count": 9,
>>>>>>> cd572c68544732c87348a20d6d4b3871d2a780f2
   "metadata": {},
   "outputs": [
    {
     "name": "stdout",
     "output_type": "stream",
     "text": [
      "tf.Tensor(\n",
      "[[[[ 0.00000000e+00]\n",
      "   [ 0.00000000e+00]\n",
      "   [ 0.00000000e+00]\n",
      "   ...\n",
      "   [ 0.00000000e+00]\n",
      "   [ 0.00000000e+00]\n",
      "   [ 0.00000000e+00]]\n",
      "\n",
      "  [[ 0.00000000e+00]\n",
      "   [ 0.00000000e+00]\n",
      "   [ 0.00000000e+00]\n",
      "   ...\n",
      "   [ 0.00000000e+00]\n",
      "   [ 0.00000000e+00]\n",
      "   [ 0.00000000e+00]]\n",
      "\n",
      "  [[ 0.00000000e+00]\n",
      "   [ 0.00000000e+00]\n",
      "   [ 0.00000000e+00]\n",
      "   ...\n",
      "   [ 0.00000000e+00]\n",
      "   [ 0.00000000e+00]\n",
      "   [ 0.00000000e+00]]\n",
      "\n",
      "  ...\n",
      "\n",
      "  [[ 0.00000000e+00]\n",
      "   [ 0.00000000e+00]\n",
      "   [ 0.00000000e+00]\n",
      "   ...\n",
      "   [ 0.00000000e+00]\n",
      "   [ 0.00000000e+00]\n",
      "   [ 0.00000000e+00]]\n",
      "\n",
      "  [[ 0.00000000e+00]\n",
      "   [ 0.00000000e+00]\n",
      "   [ 0.00000000e+00]\n",
      "   ...\n",
      "   [ 0.00000000e+00]\n",
      "   [ 0.00000000e+00]\n",
      "   [ 0.00000000e+00]]\n",
      "\n",
      "  [[ 0.00000000e+00]\n",
      "   [ 0.00000000e+00]\n",
      "   [ 0.00000000e+00]\n",
      "   ...\n",
      "   [ 0.00000000e+00]\n",
      "   [ 0.00000000e+00]\n",
      "   [ 0.00000000e+00]]]\n",
      "\n",
      "\n",
      " [[[ 0.00000000e+00]\n",
      "   [ 0.00000000e+00]\n",
      "   [ 0.00000000e+00]\n",
      "   ...\n",
      "   [ 5.03873173e-03]\n",
      "   [-5.35156904e-03]\n",
      "   [ 6.29902491e-03]]\n",
      "\n",
      "  [[ 0.00000000e+00]\n",
      "   [ 0.00000000e+00]\n",
      "   [ 0.00000000e+00]\n",
      "   ...\n",
      "   [-1.93123408e-02]\n",
      "   [-8.74883123e-03]\n",
      "   [ 1.91055980e-04]]\n",
      "\n",
      "  [[ 0.00000000e+00]\n",
      "   [ 0.00000000e+00]\n",
      "   [ 0.00000000e+00]\n",
      "   ...\n",
      "   [-5.09767374e-03]\n",
      "   [-2.33113691e-02]\n",
      "   [-2.24700402e-02]]\n",
      "\n",
      "  ...\n",
      "\n",
      "  [[ 0.00000000e+00]\n",
      "   [ 0.00000000e+00]\n",
      "   [ 0.00000000e+00]\n",
      "   ...\n",
      "   [ 0.00000000e+00]\n",
      "   [ 0.00000000e+00]\n",
      "   [ 0.00000000e+00]]\n",
      "\n",
      "  [[ 0.00000000e+00]\n",
      "   [ 0.00000000e+00]\n",
      "   [ 0.00000000e+00]\n",
      "   ...\n",
      "   [ 0.00000000e+00]\n",
      "   [ 0.00000000e+00]\n",
      "   [ 0.00000000e+00]]\n",
      "\n",
      "  [[ 0.00000000e+00]\n",
      "   [ 0.00000000e+00]\n",
      "   [ 0.00000000e+00]\n",
      "   ...\n",
      "   [ 0.00000000e+00]\n",
      "   [ 0.00000000e+00]\n",
      "   [ 0.00000000e+00]]]\n",
      "\n",
      "\n",
      " [[[ 5.17985271e-03]\n",
      "   [ 1.62159267e-03]\n",
      "   [-1.72234676e-03]\n",
      "   ...\n",
      "   [ 6.13007927e-03]\n",
      "   [-6.51070941e-03]\n",
      "   [ 7.66337523e-03]]\n",
      "\n",
      "  [[-1.53263770e-02]\n",
      "   [-6.21603429e-03]\n",
      "   [-2.81573227e-03]\n",
      "   ...\n",
      "   [-2.34940946e-02]\n",
      "   [-1.06437914e-02]\n",
      "   [ 2.32404098e-04]]\n",
      "\n",
      "  [[ 3.36192478e-03]\n",
      "   [-1.64062297e-03]\n",
      "   [-7.50354445e-03]\n",
      "   ...\n",
      "   [-6.20176224e-03]\n",
      "   [-2.83582211e-02]\n",
      "   [-2.73349192e-02]]\n",
      "\n",
      "  ...\n",
      "\n",
      "  [[-2.26047803e-02]\n",
      "   [-9.16865747e-03]\n",
      "   [-4.15326376e-03]\n",
      "   ...\n",
      "   [-5.95621346e-03]\n",
      "   [-2.69802217e-03]\n",
      "   [ 5.88859220e-05]]\n",
      "\n",
      "  [[ 4.95894998e-03]\n",
      "   [-2.41991947e-03]\n",
      "   [-1.10676652e-02]\n",
      "   ...\n",
      "   [-1.57203653e-03]\n",
      "   [-7.18990620e-03]\n",
      "   [-6.93033682e-03]]\n",
      "\n",
      "  [[-1.23722721e-02]\n",
      "   [-4.95558884e-03]\n",
      "   [ 1.60757150e-03]\n",
      "   ...\n",
      "   [-3.21923569e-03]\n",
      "   [ 1.04425463e-03]\n",
      "   [ 6.93257491e-04]]]\n",
      "\n",
      "\n",
      " ...\n",
      "\n",
      "\n",
      " [[[ 0.00000000e+00]\n",
      "   [ 0.00000000e+00]\n",
      "   [ 0.00000000e+00]\n",
      "   ...\n",
      "   [ 0.00000000e+00]\n",
      "   [ 0.00000000e+00]\n",
      "   [ 0.00000000e+00]]\n",
      "\n",
      "  [[ 0.00000000e+00]\n",
      "   [ 0.00000000e+00]\n",
      "   [ 0.00000000e+00]\n",
      "   ...\n",
      "   [ 0.00000000e+00]\n",
      "   [ 0.00000000e+00]\n",
      "   [ 0.00000000e+00]]\n",
      "\n",
      "  [[ 0.00000000e+00]\n",
      "   [ 0.00000000e+00]\n",
      "   [ 0.00000000e+00]\n",
      "   ...\n",
      "   [ 0.00000000e+00]\n",
      "   [ 0.00000000e+00]\n",
      "   [ 0.00000000e+00]]\n",
      "\n",
      "  ...\n",
      "\n",
      "  [[-1.31392088e-02]\n",
      "   [-5.32885781e-03]\n",
      "   [-2.41387030e-03]\n",
      "   ...\n",
      "   [-1.55467093e-02]\n",
      "   [-7.04269530e-03]\n",
      "   [ 1.53756351e-04]]\n",
      "\n",
      "  [[ 2.88207782e-03]\n",
      "   [-1.40643958e-03]\n",
      "   [-6.43263990e-03]\n",
      "   ...\n",
      "   [-4.10353299e-03]\n",
      "   [-1.87662933e-02]\n",
      "   [-1.80889443e-02]]\n",
      "\n",
      "  [[-7.19093392e-03]\n",
      "   [-2.88017257e-03]\n",
      "   [ 9.34263691e-04]\n",
      "   ...\n",
      "   [-8.40314105e-03]\n",
      "   [ 2.72595813e-03]\n",
      "   [ 1.80971355e-03]]]\n",
      "\n",
      "\n",
      " [[[ 0.00000000e+00]\n",
      "   [ 0.00000000e+00]\n",
      "   [ 0.00000000e+00]\n",
      "   ...\n",
      "   [ 0.00000000e+00]\n",
      "   [ 0.00000000e+00]\n",
      "   [ 0.00000000e+00]]\n",
      "\n",
      "  [[ 0.00000000e+00]\n",
      "   [ 0.00000000e+00]\n",
      "   [ 0.00000000e+00]\n",
      "   ...\n",
      "   [ 0.00000000e+00]\n",
      "   [ 0.00000000e+00]\n",
      "   [ 0.00000000e+00]]\n",
      "\n",
      "  [[ 0.00000000e+00]\n",
      "   [ 0.00000000e+00]\n",
      "   [ 0.00000000e+00]\n",
      "   ...\n",
      "   [ 0.00000000e+00]\n",
      "   [ 0.00000000e+00]\n",
      "   [ 0.00000000e+00]]\n",
      "\n",
      "  ...\n",
      "\n",
      "  [[-3.62414569e-02]\n",
      "   [-1.47030558e-02]\n",
      "   [-6.66051265e-03]\n",
      "   ...\n",
      "   [-1.01043759e-02]\n",
      "   [-4.57715336e-03]\n",
      "   [ 9.99470067e-05]]\n",
      "\n",
      "  [[ 7.95253832e-03]\n",
      "   [-3.88081092e-03]\n",
      "   [-1.77480616e-02]\n",
      "   ...\n",
      "   [-2.66692112e-03]\n",
      "   [-1.21972207e-02]\n",
      "   [-1.17568718e-02]]\n",
      "\n",
      "  [[-1.98397823e-02]\n",
      "   [-7.94710126e-03]\n",
      "   [ 2.57797306e-03]\n",
      "   ...\n",
      "   [-5.46134589e-03]\n",
      "   [ 1.77164364e-03]\n",
      "   [ 1.17616437e-03]]]\n",
      "\n",
      "\n",
      " [[[ 2.38349475e-02]\n",
      "   [ 7.46301096e-03]\n",
      "   [-7.92636164e-03]\n",
      "   ...\n",
      "   [ 1.46822818e-03]\n",
      "   [-1.55942061e-03]\n",
      "   [ 1.83548767e-03]]\n",
      "\n",
      "  [[-7.04248771e-02]\n",
      "   [-2.86002643e-02]\n",
      "   [-1.29579920e-02]\n",
      "   ...\n",
      "   [-5.62813599e-03]\n",
      "   [-2.54945597e-03]\n",
      "   [ 5.56676387e-05]]\n",
      "\n",
      "  [[ 1.54714575e-02]\n",
      "   [-7.55031453e-03]\n",
      "   [-3.45201679e-02]\n",
      "   ...\n",
      "   [-1.48543506e-03]\n",
      "   [-6.79389667e-03]\n",
      "   [-6.54863147e-03]]\n",
      "\n",
      "  ...\n",
      "\n",
      "  [[ 0.00000000e+00]\n",
      "   [ 0.00000000e+00]\n",
      "   [ 0.00000000e+00]\n",
      "   ...\n",
      "   [-6.62146462e-03]\n",
      "   [-2.99939420e-03]\n",
      "   [ 6.55012118e-05]]\n",
      "\n",
      "  [[ 0.00000000e+00]\n",
      "   [ 0.00000000e+00]\n",
      "   [ 0.00000000e+00]\n",
      "   ...\n",
      "   [-1.74761715e-03]\n",
      "   [-7.99297448e-03]\n",
      "   [-7.70439161e-03]]\n",
      "\n",
      "  [[ 0.00000000e+00]\n",
      "   [ 0.00000000e+00]\n",
      "   [ 0.00000000e+00]\n",
      "   ...\n",
      "   [-3.57878883e-03]\n",
      "   [ 1.16088171e-03]\n",
      "   [ 7.70689687e-04]]]], shape=(128, 28, 28, 1), dtype=float32)\n"
     ]
    }
   ],
   "source": [
    "#test the Generator\n",
    "G_Test = Generator()\n",
    "x = tf.random.normal([batch_size,49])\n",
    "x = G_Test(x)\n",
<<<<<<< HEAD
    "print(x)"
=======
    "#print(x)"
   ]
  },
  {
   "cell_type": "code",
   "execution_count": 10,
   "metadata": {},
   "outputs": [],
   "source": [
    "def train_step(G,D,G_optimizer, D_optimizer, data, noise):\n",
    "    with tf.GradientTape() as G_tape, tf.GradientTape() as D_tape:\n",
    "\n",
    "        fake_data = G(noise)\n",
    "        fake_data_pred = D(fake_data)\n",
    "        real_data_pred = D(data)\n",
    "\n",
    "        D_loss = -tf.math.reduce_mean( tf.math.log(real_data_pred) + tf.math.log(1-fake_data_pred) )    \n",
    "        G_loss = tf.math.reduce_mean( tf.math.log(1-fake_data_pred) )\n",
    "\n",
    "        D_gradients = D_tape.gradient(D_loss, D.trainable_variables)\n",
    "        D_optimizer.apply_gradients(zip(D_gradients, D.trainable_variables))\n",
    "\n",
    "        G_gradients = G_tape.gradient(G_loss, G.trainable_variables)\n",
    "        G_optimizer.apply_gradients(zip(G_gradients, G.trainable_variables))\n",
    "\n"
>>>>>>> cd572c68544732c87348a20d6d4b3871d2a780f2
   ]
  },
  {
   "cell_type": "code",
<<<<<<< HEAD
   "execution_count": 129,
=======
   "execution_count": 11,
>>>>>>> cd572c68544732c87348a20d6d4b3871d2a780f2
   "metadata": {},
   "outputs": [],
   "source": [
    "# maybe seperate test function\n",
    "def test(D, G, data, noise):\n",
    "\n",
    "    test_loss_aggregator_d = []\n",
    "    test_loss_aggregator_g = []\n",
    "    \n",
    "    for d in data:\n",
    "        # process data and get predictions\n",
    "        fake_data = G(noise)\n",
    "        fake_data_pred = D(fake_data)\n",
    "        real_data_pred = D(d)\n",
    "        # compute loss for both networks\n",
    "        D_loss = -tf.math.reduce_mean( tf.math.log(real_data_pred) + tf.math.log(1-fake_data_pred) )    \n",
    "        G_loss = tf.math.reduce_mean( tf.math.log(1-fake_data_pred) )\n",
    "        # append losses to array \n",
    "        test_loss_aggregator_d.append(D_loss)\n",
    "        test_loss_aggregator_g.append(G_loss)\n",
    "    #compute loss mean for \n",
    "    D_loss = tf.reduce_mean(test_loss_aggregator_d)\n",
    "    G_loss = tf.reduce_mean(test_loss_aggregator_g)\n",
    "\n",
    "    return D_loss, G_loss\n"
   ]
  },
  {
   "cell_type": "code",
<<<<<<< HEAD
   "execution_count": 130,
=======
   "execution_count": 12,
>>>>>>> cd572c68544732c87348a20d6d4b3871d2a780f2
   "metadata": {},
   "outputs": [
    {
     "name": "stdout",
     "output_type": "stream",
     "text": [
<<<<<<< HEAD
      "The tensorboard extension is already loaded. To reload it, use:\n",
      "  %reload_ext tensorboard\n"
     ]
    }
   ],
   "source": [
    "%load_ext tensorboard"
   ]
  },
  {
   "cell_type": "code",
   "execution_count": 131,
   "metadata": {},
   "outputs": [
=======
      "Firing up Generator and Discriminator\n"
     ]
    },
    {
     "name": "stderr",
     "output_type": "stream",
     "text": [
      "  0%|          | 0/625 [00:00<?, ?it/s]2022-01-16 17:49:12.250022: I tensorflow/compiler/mlir/mlir_graph_optimization_pass.cc:185] None of the MLIR Optimization Passes are enabled (registered 2)\n",
      "2022-01-16 17:49:12.251436: W tensorflow/core/platform/profile_utils/cpu_utils.cc:128] Failed to get CPU frequency: 0 Hz\n",
      "2022-01-16 17:49:12.671025: I tensorflow/core/grappler/optimizers/custom_graph_optimizer_registry.cc:112] Plugin optimizer for device_type GPU is enabled.\n",
      "2022-01-16 17:49:13.075784: I tensorflow/core/grappler/optimizers/custom_graph_optimizer_registry.cc:112] Plugin optimizer for device_type GPU is enabled.\n",
      "2022-01-16 17:49:13.502919: I tensorflow/core/grappler/optimizers/custom_graph_optimizer_registry.cc:112] Plugin optimizer for device_type GPU is enabled.\n",
      "2022-01-16 17:49:14.704003: I tensorflow/core/grappler/optimizers/custom_graph_optimizer_registry.cc:112] Plugin optimizer for device_type GPU is enabled.\n",
      "2022-01-16 17:49:15.978742: I tensorflow/core/grappler/optimizers/custom_graph_optimizer_registry.cc:112] Plugin optimizer for device_type GPU is enabled.\n",
      "100%|██████████| 625/625 [00:24<00:00, 25.91it/s]\n",
      "2022-01-16 17:49:36.379671: I tensorflow/core/grappler/optimizers/custom_graph_optimizer_registry.cc:112] Plugin optimizer for device_type GPU is enabled.\n",
      "2022-01-16 17:49:36.396286: I tensorflow/core/grappler/optimizers/custom_graph_optimizer_registry.cc:112] Plugin optimizer for device_type GPU is enabled.\n"
     ]
    },
    {
     "name": "stdout",
     "output_type": "stream",
     "text": [
      "Generator Loss for epoch: 0tf.Tensor(1.3844548, shape=(), dtype=float32)\n",
      "Discriminator Loss for this epoch is: 0tf.Tensor(-0.6600987, shape=(), dtype=float32)\n"
     ]
    },
    {
     "name": "stderr",
     "output_type": "stream",
     "text": [
      "100%|██████████| 625/625 [00:20<00:00, 30.89it/s]\n"
     ]
    },
    {
     "name": "stdout",
     "output_type": "stream",
     "text": [
      "Generator Loss for epoch: 1tf.Tensor(1.369616, shape=(), dtype=float32)\n",
      "Discriminator Loss for this epoch is: 1tf.Tensor(-0.6304111, shape=(), dtype=float32)\n"
     ]
    },
    {
     "name": "stderr",
     "output_type": "stream",
     "text": [
      "100%|██████████| 625/625 [00:20<00:00, 30.50it/s]\n"
     ]
    },
    {
     "name": "stdout",
     "output_type": "stream",
     "text": [
      "Generator Loss for epoch: 2tf.Tensor(1.4040283, shape=(), dtype=float32)\n",
      "Discriminator Loss for this epoch is: 2tf.Tensor(-0.6729865, shape=(), dtype=float32)\n"
     ]
    },
    {
     "name": "stderr",
     "output_type": "stream",
     "text": [
      "100%|██████████| 625/625 [00:20<00:00, 30.81it/s]\n"
     ]
    },
    {
     "name": "stdout",
     "output_type": "stream",
     "text": [
      "Generator Loss for epoch: 3tf.Tensor(1.3849608, shape=(), dtype=float32)\n",
      "Discriminator Loss for this epoch is: 3tf.Tensor(-0.6697185, shape=(), dtype=float32)\n"
     ]
    },
    {
     "name": "stderr",
     "output_type": "stream",
     "text": [
      "100%|██████████| 625/625 [00:20<00:00, 30.96it/s]\n"
     ]
    },
    {
     "name": "stdout",
     "output_type": "stream",
     "text": [
      "Generator Loss for epoch: 4tf.Tensor(1.3655561, shape=(), dtype=float32)\n",
      "Discriminator Loss for this epoch is: 4tf.Tensor(-0.6847601, shape=(), dtype=float32)\n"
     ]
    },
    {
     "name": "stderr",
     "output_type": "stream",
     "text": [
      "100%|██████████| 625/625 [00:20<00:00, 30.73it/s]\n"
     ]
    },
    {
     "name": "stdout",
     "output_type": "stream",
     "text": [
      "Generator Loss for epoch: 5tf.Tensor(1.411388, shape=(), dtype=float32)\n",
      "Discriminator Loss for this epoch is: 5tf.Tensor(-0.66192067, shape=(), dtype=float32)\n"
     ]
    },
    {
     "name": "stderr",
     "output_type": "stream",
     "text": [
      "100%|██████████| 625/625 [00:20<00:00, 29.97it/s]\n"
     ]
    },
    {
     "name": "stdout",
     "output_type": "stream",
     "text": [
      "Generator Loss for epoch: 6tf.Tensor(1.3815491, shape=(), dtype=float32)\n",
      "Discriminator Loss for this epoch is: 6tf.Tensor(-0.72106826, shape=(), dtype=float32)\n"
     ]
    },
    {
     "name": "stderr",
     "output_type": "stream",
     "text": [
      "100%|██████████| 625/625 [00:20<00:00, 30.80it/s]\n"
     ]
    },
    {
     "name": "stdout",
     "output_type": "stream",
     "text": [
      "Generator Loss for epoch: 7tf.Tensor(1.3890806, shape=(), dtype=float32)\n",
      "Discriminator Loss for this epoch is: 7tf.Tensor(-0.6695204, shape=(), dtype=float32)\n"
     ]
    },
    {
     "name": "stderr",
     "output_type": "stream",
     "text": [
      "100%|██████████| 625/625 [00:20<00:00, 30.61it/s]\n"
     ]
    },
    {
     "name": "stdout",
     "output_type": "stream",
     "text": [
      "Generator Loss for epoch: 8tf.Tensor(1.357306, shape=(), dtype=float32)\n",
      "Discriminator Loss for this epoch is: 8tf.Tensor(-0.783135, shape=(), dtype=float32)\n"
     ]
    },
    {
     "name": "stderr",
     "output_type": "stream",
     "text": [
      "100%|██████████| 625/625 [00:20<00:00, 30.56it/s]\n"
     ]
    },
    {
     "name": "stdout",
     "output_type": "stream",
     "text": [
      "Generator Loss for epoch: 9tf.Tensor(1.3800381, shape=(), dtype=float32)\n",
      "Discriminator Loss for this epoch is: 9tf.Tensor(-0.6340491, shape=(), dtype=float32)\n"
     ]
    },
    {
     "name": "stderr",
     "output_type": "stream",
     "text": [
      "100%|██████████| 625/625 [00:20<00:00, 30.65it/s]\n"
     ]
    },
    {
     "name": "stdout",
     "output_type": "stream",
     "text": [
      "Generator Loss for epoch: 10tf.Tensor(1.3034173, shape=(), dtype=float32)\n",
      "Discriminator Loss for this epoch is: 10tf.Tensor(-0.7796924, shape=(), dtype=float32)\n"
     ]
    },
    {
     "name": "stderr",
     "output_type": "stream",
     "text": [
      "100%|██████████| 625/625 [00:20<00:00, 30.73it/s]\n"
     ]
    },
    {
     "name": "stdout",
     "output_type": "stream",
     "text": [
      "Generator Loss for epoch: 11tf.Tensor(1.3728721, shape=(), dtype=float32)\n",
      "Discriminator Loss for this epoch is: 11tf.Tensor(-0.6884635, shape=(), dtype=float32)\n"
     ]
    },
    {
     "name": "stderr",
     "output_type": "stream",
     "text": [
      "100%|██████████| 625/625 [00:20<00:00, 30.76it/s]\n"
     ]
    },
    {
     "name": "stdout",
     "output_type": "stream",
     "text": [
      "Generator Loss for epoch: 12tf.Tensor(1.3817579, shape=(), dtype=float32)\n",
      "Discriminator Loss for this epoch is: 12tf.Tensor(-0.68596774, shape=(), dtype=float32)\n"
     ]
    },
    {
     "name": "stderr",
     "output_type": "stream",
     "text": [
      "100%|██████████| 625/625 [00:20<00:00, 30.70it/s]\n"
     ]
    },
    {
     "name": "stdout",
     "output_type": "stream",
     "text": [
      "Generator Loss for epoch: 13tf.Tensor(1.3845886, shape=(), dtype=float32)\n",
      "Discriminator Loss for this epoch is: 13tf.Tensor(-0.69476014, shape=(), dtype=float32)\n"
     ]
    },
    {
     "name": "stderr",
     "output_type": "stream",
     "text": [
      "100%|██████████| 625/625 [00:20<00:00, 30.44it/s]\n"
     ]
    },
    {
     "name": "stdout",
     "output_type": "stream",
     "text": [
      "Generator Loss for epoch: 14tf.Tensor(1.385149, shape=(), dtype=float32)\n",
      "Discriminator Loss for this epoch is: 14tf.Tensor(-0.69167346, shape=(), dtype=float32)\n"
     ]
    },
    {
     "name": "stderr",
     "output_type": "stream",
     "text": [
      "100%|██████████| 625/625 [00:20<00:00, 30.53it/s]\n"
     ]
    },
    {
     "name": "stdout",
     "output_type": "stream",
     "text": [
      "Generator Loss for epoch: 15tf.Tensor(1.3852903, shape=(), dtype=float32)\n",
      "Discriminator Loss for this epoch is: 15tf.Tensor(-0.691291, shape=(), dtype=float32)\n"
     ]
    },
    {
     "name": "stderr",
     "output_type": "stream",
     "text": [
      "100%|██████████| 625/625 [00:20<00:00, 30.56it/s]\n"
     ]
    },
    {
     "name": "stdout",
     "output_type": "stream",
     "text": [
      "Generator Loss for epoch: 16tf.Tensor(1.3853797, shape=(), dtype=float32)\n",
      "Discriminator Loss for this epoch is: 16tf.Tensor(-0.6899466, shape=(), dtype=float32)\n"
     ]
    },
    {
     "name": "stderr",
     "output_type": "stream",
     "text": [
      "100%|██████████| 625/625 [00:20<00:00, 30.98it/s]\n"
     ]
    },
    {
     "name": "stdout",
     "output_type": "stream",
     "text": [
      "Generator Loss for epoch: 17tf.Tensor(1.386111, shape=(), dtype=float32)\n",
      "Discriminator Loss for this epoch is: 17tf.Tensor(-0.6989435, shape=(), dtype=float32)\n"
     ]
    },
    {
     "name": "stderr",
     "output_type": "stream",
     "text": [
      "100%|██████████| 625/625 [00:20<00:00, 30.95it/s]\n"
     ]
    },
>>>>>>> cd572c68544732c87348a20d6d4b3871d2a780f2
    {
     "name": "stdout",
     "output_type": "stream",
     "text": [
<<<<<<< HEAD
      "Firing up Generator and Discriminator\n"
=======
      "Generator Loss for epoch: 18tf.Tensor(1.3861647, shape=(), dtype=float32)\n",
      "Discriminator Loss for this epoch is: 18tf.Tensor(-0.6856137, shape=(), dtype=float32)\n"
>>>>>>> cd572c68544732c87348a20d6d4b3871d2a780f2
     ]
    },
    {
     "name": "stderr",
     "output_type": "stream",
     "text": [
<<<<<<< HEAD
      "100%|██████████| 885/885 [01:21<00:00, 10.80it/s]\n",
      "100%|██████████| 885/885 [01:20<00:00, 10.97it/s]\n",
      "100%|██████████| 885/885 [01:19<00:00, 11.15it/s]\n",
      "100%|██████████| 885/885 [01:20<00:00, 11.05it/s]\n",
      "100%|██████████| 885/885 [01:20<00:00, 11.05it/s]\n",
      "100%|██████████| 885/885 [01:21<00:00, 10.86it/s]\n",
      "100%|██████████| 885/885 [01:21<00:00, 10.80it/s]\n",
      "100%|██████████| 885/885 [01:21<00:00, 10.87it/s]\n",
      "100%|██████████| 885/885 [01:22<00:00, 10.66it/s]\n",
      "100%|██████████| 885/885 [01:20<00:00, 10.95it/s]\n",
      "100%|██████████| 885/885 [01:20<00:00, 10.94it/s]\n",
      "100%|██████████| 885/885 [01:21<00:00, 10.86it/s]\n",
      "100%|██████████| 885/885 [01:23<00:00, 10.56it/s]\n",
      "100%|██████████| 885/885 [01:25<00:00, 10.36it/s]\n",
      "100%|██████████| 885/885 [01:33<00:00,  9.44it/s]\n",
      "100%|██████████| 885/885 [01:32<00:00,  9.56it/s]\n",
      "100%|██████████| 885/885 [01:32<00:00,  9.57it/s]\n",
      "100%|██████████| 885/885 [01:36<00:00,  9.22it/s]\n",
      "100%|██████████| 885/885 [01:31<00:00,  9.65it/s]\n",
      "100%|██████████| 885/885 [01:33<00:00,  9.42it/s]\n"
     ]
    },
    {
     "data": {
      "text/plain": [
       "<Figure size 1440x720 with 0 Axes>"
      ]
     },
     "metadata": {},
     "output_type": "display_data"
    },
    {
     "data": {
      "image/png": "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",
=======
      "100%|██████████| 625/625 [00:20<00:00, 30.67it/s]\n"
     ]
    },
    {
     "name": "stdout",
     "output_type": "stream",
     "text": [
      "Generator Loss for epoch: 19tf.Tensor(1.3341656, shape=(), dtype=float32)\n",
      "Discriminator Loss for this epoch is: 19tf.Tensor(-0.6731842, shape=(), dtype=float32)\n"
     ]
    },
    {
     "data": {
      "image/png": "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",
>>>>>>> cd572c68544732c87348a20d6d4b3871d2a780f2
      "text/plain": [
       "<Figure size 864x864 with 10 Axes>"
      ]
     },
     "metadata": {
      "needs_background": "light"
     },
     "output_type": "display_data"
    }
   ],
   "source": [
    "# clear session\n",
    "tf.keras.backend.clear_session()\n",
    "# define hyperparameters\n",
    "num_epochs = 20\n",
    "latent_space_size = 100\n",
    "# create empty arrays and lists \n",
    "test_losses = []\n",
    "images_generated = []\n",
    "\n",
    "# create instances of Generator and Discriminator\n",
    "G = Generator2()\n",
    "D = Discriminator2()\n",
    "\n",
    "\n",
    "#tensorboard setup\n",
    "time = datetime.datetime.now().strftime(\"%Y%m%d-%H%M%S\")\n",
    "train_path = f\"./logs/wgan/train\" + time\n",
    "test_path = f\"./logs/wgan/test\" + time\n",
    "train_summary_writer = tf.summary.create_file_writer(train_path)\n",
    "test_summary_writer = tf.summary.create_file_writer(test_path)\n",
    "\n",
    "\n",
    "#accuracy metrics\n",
    "acc = tf.keras.metrics.BinaryAccuracy(threshold=0.5)\n",
    "generated_images = []\n",
    "\n",
    "# Entry print\n",
    "print(\"Firing up Generator and Discriminator\")\n",
    "\n",
    "# loop through epochs\n",
    "for epoch in range(num_epochs):       \n",
    "    gen_loss = []\n",
    "    disc_loss = []     \n",
    "    loss_epoch_gen = []\n",
    "    loss_epoch_dis = []\n",
<<<<<<< HEAD
    "    acc_aggregator = []\n",
=======
    "    for data in tqdm(train_ds):\n",
    "        z = tf.random.normal([batch_size,100])\n",
    "        train_step(G,D,G_optimizer=G_optimizer, D_optimizer=D_optimizer, data=data, noise=z)\n",
    "\n",
    "\n",
    "    test_loss_g, test_loss_d = test(D,G,test_ds, test_noise)\n",
    "    test_losses.append([test_loss_g,test_loss_d])\n",
    "    loss_epoch_gen.append(tf.reduce_mean(losses_gen))\n",
    "    loss_epoch_dis.append(tf.reduce_mean(losses_dis))\n",
    "\n",
    "    print(\"Generator Loss for epoch: \"+ str(epoch) + str(test_loss_g))\n",
    "    print(\"Discriminator Loss for this epoch is: \" + str(epoch) + str(test_loss_d))\n",
    "\n",
    "\n",
    "    generated = G(visualization_noise)\n",
    "    generated = tf.reshape(generated, (28,28,1))\n",
    "    images_generated.append(generated)\n",
    "\n",
    "    fig.add_subplot(rows, columns, epoch+1)\n",
    "    # showing image\n",
    "    plt.imshow(generated)\n",
    "    plt.axis('off')\n",
    "    plt.title('Iteration '+ str(epoch+1))\n",
    "\n",
    "\n",
    "\n",
    "        \n"
   ]
  },
  {
   "cell_type": "code",
   "execution_count": 15,
   "metadata": {},
   "outputs": [
    {
     "ename": "TypeError",
     "evalue": "Invalid shape (784,) for image data",
     "output_type": "error",
     "traceback": [
      "\u001b[0;31m---------------------------------------------------------------------------\u001b[0m",
      "\u001b[0;31mTypeError\u001b[0m                                 Traceback (most recent call last)",
      "\u001b[0;32m/var/folders/bd/0dfykvgs4mscqmxf9r8jmtcm0000gp/T/ipykernel_33520/1792536100.py\u001b[0m in \u001b[0;36m<module>\u001b[0;34m\u001b[0m\n\u001b[1;32m      7\u001b[0m     \u001b[0mfig\u001b[0m\u001b[0;34m.\u001b[0m\u001b[0madd_subplot\u001b[0m\u001b[0;34m(\u001b[0m\u001b[0mrows\u001b[0m\u001b[0;34m,\u001b[0m \u001b[0mcolumns\u001b[0m\u001b[0;34m,\u001b[0m \u001b[0mi\u001b[0m\u001b[0;34m+\u001b[0m\u001b[0;36m1\u001b[0m\u001b[0;34m)\u001b[0m\u001b[0;34m\u001b[0m\u001b[0;34m\u001b[0m\u001b[0m\n\u001b[1;32m      8\u001b[0m     \u001b[0;31m# showing image\u001b[0m\u001b[0;34m\u001b[0m\u001b[0;34m\u001b[0m\u001b[0m\n\u001b[0;32m----> 9\u001b[0;31m     \u001b[0mplt\u001b[0m\u001b[0;34m.\u001b[0m\u001b[0mimshow\u001b[0m\u001b[0;34m(\u001b[0m\u001b[0mimages\u001b[0m\u001b[0;34m[\u001b[0m\u001b[0mi\u001b[0m\u001b[0;34m]\u001b[0m\u001b[0;34m)\u001b[0m\u001b[0;34m\u001b[0m\u001b[0;34m\u001b[0m\u001b[0m\n\u001b[0m\u001b[1;32m     10\u001b[0m     \u001b[0mplt\u001b[0m\u001b[0;34m.\u001b[0m\u001b[0maxis\u001b[0m\u001b[0;34m(\u001b[0m\u001b[0;34m'off'\u001b[0m\u001b[0;34m)\u001b[0m\u001b[0;34m\u001b[0m\u001b[0;34m\u001b[0m\u001b[0m\n\u001b[1;32m     11\u001b[0m     \u001b[0mplt\u001b[0m\u001b[0;34m.\u001b[0m\u001b[0mtitle\u001b[0m\u001b[0;34m(\u001b[0m\u001b[0;34m'Iteration '\u001b[0m\u001b[0;34m+\u001b[0m \u001b[0mstr\u001b[0m\u001b[0;34m(\u001b[0m\u001b[0mi\u001b[0m\u001b[0;34m+\u001b[0m\u001b[0;36m1\u001b[0m\u001b[0;34m)\u001b[0m\u001b[0;34m)\u001b[0m\u001b[0;34m\u001b[0m\u001b[0;34m\u001b[0m\u001b[0m\n",
      "\u001b[0;32m~/miniforge3/envs/tensorm1/lib/python3.9/site-packages/matplotlib/pyplot.py\u001b[0m in \u001b[0;36mimshow\u001b[0;34m(X, cmap, norm, aspect, interpolation, alpha, vmin, vmax, origin, extent, filternorm, filterrad, resample, url, data, **kwargs)\u001b[0m\n\u001b[1;32m   2901\u001b[0m         \u001b[0mfilternorm\u001b[0m\u001b[0;34m=\u001b[0m\u001b[0;32mTrue\u001b[0m\u001b[0;34m,\u001b[0m \u001b[0mfilterrad\u001b[0m\u001b[0;34m=\u001b[0m\u001b[0;36m4.0\u001b[0m\u001b[0;34m,\u001b[0m \u001b[0mresample\u001b[0m\u001b[0;34m=\u001b[0m\u001b[0;32mNone\u001b[0m\u001b[0;34m,\u001b[0m \u001b[0murl\u001b[0m\u001b[0;34m=\u001b[0m\u001b[0;32mNone\u001b[0m\u001b[0;34m,\u001b[0m\u001b[0;34m\u001b[0m\u001b[0;34m\u001b[0m\u001b[0m\n\u001b[1;32m   2902\u001b[0m         data=None, **kwargs):\n\u001b[0;32m-> 2903\u001b[0;31m     __ret = gca().imshow(\n\u001b[0m\u001b[1;32m   2904\u001b[0m         \u001b[0mX\u001b[0m\u001b[0;34m,\u001b[0m \u001b[0mcmap\u001b[0m\u001b[0;34m=\u001b[0m\u001b[0mcmap\u001b[0m\u001b[0;34m,\u001b[0m \u001b[0mnorm\u001b[0m\u001b[0;34m=\u001b[0m\u001b[0mnorm\u001b[0m\u001b[0;34m,\u001b[0m \u001b[0maspect\u001b[0m\u001b[0;34m=\u001b[0m\u001b[0maspect\u001b[0m\u001b[0;34m,\u001b[0m\u001b[0;34m\u001b[0m\u001b[0;34m\u001b[0m\u001b[0m\n\u001b[1;32m   2905\u001b[0m         \u001b[0minterpolation\u001b[0m\u001b[0;34m=\u001b[0m\u001b[0minterpolation\u001b[0m\u001b[0;34m,\u001b[0m \u001b[0malpha\u001b[0m\u001b[0;34m=\u001b[0m\u001b[0malpha\u001b[0m\u001b[0;34m,\u001b[0m \u001b[0mvmin\u001b[0m\u001b[0;34m=\u001b[0m\u001b[0mvmin\u001b[0m\u001b[0;34m,\u001b[0m\u001b[0;34m\u001b[0m\u001b[0;34m\u001b[0m\u001b[0m\n",
      "\u001b[0;32m~/miniforge3/envs/tensorm1/lib/python3.9/site-packages/matplotlib/__init__.py\u001b[0m in \u001b[0;36minner\u001b[0;34m(ax, data, *args, **kwargs)\u001b[0m\n\u001b[1;32m   1359\u001b[0m     \u001b[0;32mdef\u001b[0m \u001b[0minner\u001b[0m\u001b[0;34m(\u001b[0m\u001b[0max\u001b[0m\u001b[0;34m,\u001b[0m \u001b[0;34m*\u001b[0m\u001b[0margs\u001b[0m\u001b[0;34m,\u001b[0m \u001b[0mdata\u001b[0m\u001b[0;34m=\u001b[0m\u001b[0;32mNone\u001b[0m\u001b[0;34m,\u001b[0m \u001b[0;34m**\u001b[0m\u001b[0mkwargs\u001b[0m\u001b[0;34m)\u001b[0m\u001b[0;34m:\u001b[0m\u001b[0;34m\u001b[0m\u001b[0;34m\u001b[0m\u001b[0m\n\u001b[1;32m   1360\u001b[0m         \u001b[0;32mif\u001b[0m \u001b[0mdata\u001b[0m \u001b[0;32mis\u001b[0m \u001b[0;32mNone\u001b[0m\u001b[0;34m:\u001b[0m\u001b[0;34m\u001b[0m\u001b[0;34m\u001b[0m\u001b[0m\n\u001b[0;32m-> 1361\u001b[0;31m             \u001b[0;32mreturn\u001b[0m \u001b[0mfunc\u001b[0m\u001b[0;34m(\u001b[0m\u001b[0max\u001b[0m\u001b[0;34m,\u001b[0m \u001b[0;34m*\u001b[0m\u001b[0mmap\u001b[0m\u001b[0;34m(\u001b[0m\u001b[0msanitize_sequence\u001b[0m\u001b[0;34m,\u001b[0m \u001b[0margs\u001b[0m\u001b[0;34m)\u001b[0m\u001b[0;34m,\u001b[0m \u001b[0;34m**\u001b[0m\u001b[0mkwargs\u001b[0m\u001b[0;34m)\u001b[0m\u001b[0;34m\u001b[0m\u001b[0;34m\u001b[0m\u001b[0m\n\u001b[0m\u001b[1;32m   1362\u001b[0m \u001b[0;34m\u001b[0m\u001b[0m\n\u001b[1;32m   1363\u001b[0m         \u001b[0mbound\u001b[0m \u001b[0;34m=\u001b[0m \u001b[0mnew_sig\u001b[0m\u001b[0;34m.\u001b[0m\u001b[0mbind\u001b[0m\u001b[0;34m(\u001b[0m\u001b[0max\u001b[0m\u001b[0;34m,\u001b[0m \u001b[0;34m*\u001b[0m\u001b[0margs\u001b[0m\u001b[0;34m,\u001b[0m \u001b[0;34m**\u001b[0m\u001b[0mkwargs\u001b[0m\u001b[0;34m)\u001b[0m\u001b[0;34m\u001b[0m\u001b[0;34m\u001b[0m\u001b[0m\n",
      "\u001b[0;32m~/miniforge3/envs/tensorm1/lib/python3.9/site-packages/matplotlib/axes/_axes.py\u001b[0m in \u001b[0;36mimshow\u001b[0;34m(self, X, cmap, norm, aspect, interpolation, alpha, vmin, vmax, origin, extent, filternorm, filterrad, resample, url, **kwargs)\u001b[0m\n\u001b[1;32m   5607\u001b[0m                               resample=resample, **kwargs)\n\u001b[1;32m   5608\u001b[0m \u001b[0;34m\u001b[0m\u001b[0m\n\u001b[0;32m-> 5609\u001b[0;31m         \u001b[0mim\u001b[0m\u001b[0;34m.\u001b[0m\u001b[0mset_data\u001b[0m\u001b[0;34m(\u001b[0m\u001b[0mX\u001b[0m\u001b[0;34m)\u001b[0m\u001b[0;34m\u001b[0m\u001b[0;34m\u001b[0m\u001b[0m\n\u001b[0m\u001b[1;32m   5610\u001b[0m         \u001b[0mim\u001b[0m\u001b[0;34m.\u001b[0m\u001b[0mset_alpha\u001b[0m\u001b[0;34m(\u001b[0m\u001b[0malpha\u001b[0m\u001b[0;34m)\u001b[0m\u001b[0;34m\u001b[0m\u001b[0;34m\u001b[0m\u001b[0m\n\u001b[1;32m   5611\u001b[0m         \u001b[0;32mif\u001b[0m \u001b[0mim\u001b[0m\u001b[0;34m.\u001b[0m\u001b[0mget_clip_path\u001b[0m\u001b[0;34m(\u001b[0m\u001b[0;34m)\u001b[0m \u001b[0;32mis\u001b[0m \u001b[0;32mNone\u001b[0m\u001b[0;34m:\u001b[0m\u001b[0;34m\u001b[0m\u001b[0;34m\u001b[0m\u001b[0m\n",
      "\u001b[0;32m~/miniforge3/envs/tensorm1/lib/python3.9/site-packages/matplotlib/image.py\u001b[0m in \u001b[0;36mset_data\u001b[0;34m(self, A)\u001b[0m\n\u001b[1;32m    707\u001b[0m         if not (self._A.ndim == 2\n\u001b[1;32m    708\u001b[0m                 or self._A.ndim == 3 and self._A.shape[-1] in [3, 4]):\n\u001b[0;32m--> 709\u001b[0;31m             raise TypeError(\"Invalid shape {} for image data\"\n\u001b[0m\u001b[1;32m    710\u001b[0m                             .format(self._A.shape))\n\u001b[1;32m    711\u001b[0m \u001b[0;34m\u001b[0m\u001b[0m\n",
      "\u001b[0;31mTypeError\u001b[0m: Invalid shape (784,) for image data"
     ]
    },
    {
     "data": {
      "image/png": "iVBORw0KGgoAAAANSUhEUgAAAFcAAABSCAYAAAAhBUjfAAAAOXRFWHRTb2Z0d2FyZQBNYXRwbG90bGliIHZlcnNpb24zLjQuMiwgaHR0cHM6Ly9tYXRwbG90bGliLm9yZy8rg+JYAAAACXBIWXMAAAsTAAALEwEAmpwYAAADeUlEQVR4nO2cwYtVZRiHn19mm9m0cKCokBbiYIvALlI7N4GK4KaFbgIRhqL+gFb5PySRzEKkTdFKXBhtdaHgnUhJJRgEaShoKjCiUAZ+Lu4xxuE458O+9545M+8DF+6938t3Xx4Oh/vyfueVbZIYnus7ga1Myg0k5QaScgNJuYGk3EA65Uo6J+k3ST8+ZV2SPpO0JOmmpP310xwmJVfueeDQBuuHgT3Nax744v+ntTXolGv7MvDnBiHHgC894RrwoqSXayU4ZGrcc18Bfl7zebn5btvzfIU91PJda00taZ7JrYOZmZm35ubmKvz89FlcXPzd9mxXXA25y8Braz6/CvzSFmh7AVgAGI1GHo/HFX5++ki6VxJX47ZwEXi/+dfwNnDf9q8V9h08nVeupK+Ag8AuScvAaWAngO2zwCXgCLAE/AOcjEp2aHTKtX2iY93AR9Uy2kJkhRZIyg0k5QaScgNJuYGk3EBSbiApN5CUG0jKDSTlBpJyA0m5gaTcQFJuIEVyJR2S9FNzNuGTlvWDku5L+qF5fVo/1eFR0onYAXwOvMukX3Zd0kXbt9eFXrF9NCDHwVJy5R4Almzftf0Q+JrJWYWkgxK5pecS3pF0Q9K3kt5o20jSvKSxpPHKysozpDssSuSWnEv4Htht+03gDHChbSPbC7ZHtkezs51t/8FTIrfzXILtv2z/3by/BOyUtKtalgOlRO51YI+k1yW9ABxnclbhPyS9JEnN+wPNvn/UTnZolLTWVyV9DHwH7ADO2b4l6YNm/SzwHvChpFXgX+C48zEh1JeDgR9nWrQ96orLCi2QlBtIyg0k5QaScgNJuYGk3EBSbiApN5CUG0jKDSTlBpJyA0m5gdRqredYgBZK5i08bq0fBvYBJyTtWxeWYwFaqNVaz7EALdRqredYgBZKnlovaa0XjQVYOxIAePC00S4DYG9JUInckkf+i8YCrB0JIGlc0ofajEgqav5Vaa2TYwFaqdVaz7EALfTWWpc039wmBkdp7r3J3Q5k+RtIL3K7yunNStd0wPVMXW5hOb1ZOc/G0wGfoI8rd7An1QumAz5BH3K3Tanch9ziCXpDpw+5xRP0hk4fckvK6S3B1OXaXgUel9N3gG9s35p2Hs9CMx3wKrBX0rKkUxvGZ4UWR1ZogaTcQFJuICk3kJQbSMoNJOUGknIDeQS6dC/HehIp3AAAAABJRU5ErkJggg==",
      "text/plain": [
       "<Figure size 1440x720 with 1 Axes>"
      ]
     },
     "metadata": {
      "needs_background": "light"
     },
     "output_type": "display_data"
    }
   ],
   "source": [
    "fig = plt.figure(figsize=(20,10))\n",
    "rows = 1\n",
    "columns = num_epochs\n",
>>>>>>> cd572c68544732c87348a20d6d4b3871d2a780f2
    "\n",
    "    for data in tqdm(train_ds):\n",
    "        #create random noise\n",
    "        noise = tf.random.normal([batch_size,latent_space_size])\n",
    "\n",
    "        with tf.GradientTape() as gen_tape, tf.GradientTape() as disc_tape:\n",
    "                \n",
    "            gen_images = G(noise, training=True)\n",
    "            \n",
    "            # discriminator's output for both fake and real images\n",
    "            real_output = D(data, training=True)\n",
    "            fake_output = D(gen_images, training=True)\n",
    "\n",
    "            # loss functions for generator and discriminator, including the L2 regularization term\n",
    "            gen_loss = G.loss_function(tf.ones_like(fake_output), fake_output) + tf.reduce_sum(G.losses)\n",
    "            disc_loss = D.loss_function(tf.ones_like(real_output), real_output) + D.loss_function(tf.zeros_like(fake_output), fake_output) + tf.reduce_sum(D.losses)\n",
    "\n",
    "            # computation of accuracy\n",
    "            labels = tf.concat((tf.ones_like(real_output), tf.zeros_like(fake_output)), axis=0)\n",
    "            images = tf.concat((real_output, fake_output), axis=0)\n",
    "            acc_aggregator.append(acc(labels, images))\n",
    "\n",
    "        gen_gradients = gen_tape.gradient(gen_loss, G.trainable_variables)\n",
    "        disc_gradients = disc_tape.gradient(disc_loss, D.trainable_variables)\n",
    "            \n",
    "        G.optimizer.apply_gradients(zip(gen_gradients, G.trainable_variables))\n",
    "        D.optimizer.apply_gradients(zip(disc_gradients, D.trainable_variables))\n",
    "\n",
    "    # create 1 image using the Generator per epoch and add for later visualization\n",
    "    im = G(tf.random.normal(shape=(1,100)))\n",
    "    generated_images.append(im)\n",
    "\n",
    "    aggregated_acc = tf.reduce_mean(acc_aggregator)\n",
    "    \n",
    "    with train_summary_writer.as_default():\n",
    "            tf.summary.scalar(name=\"gen loss\", data=gen_loss, step=epoch)\n",
    "            tf.summary.scalar(name=\"disc loss\", data=disc_loss, step=epoch)\n",
    "            tf.summary.scalar(name=\"disc acc\", data=aggregated_acc, step=epoch)\n",
    "            tf.summary.image(name=\"gen_image\", data=im, step=epoch)\n",
    "\n",
    "    for image_batch in test_ds:\n",
    "\n",
    "        test_output = D(image_batch)\n",
    "        test_labels = tf.ones_like(test_output)\n",
    "        \n",
    "        # measure accuracy on test set\n",
    "        test_acc = tf.reduce_mean(acc(test_labels, test_output))\n",
    "        \n",
    "        with test_summary_writer.as_default():\n",
    "            tf.summary.scalar(name=\"test_acc\", data=test_acc, step=epoch)\n",
    "\n",
    "\n",
    "# visualize produced images\n",
    "ncols = int(num_epochs / 10)\n",
    "fig = plt.figure(figsize=(12, 12), tight_layout=False)\n",
    "for i in range(0, len(generated_images), ncols):\n",
    "    plt.subplot(1, int(len(generated_images)/ncols), 1 if i==0 else int((i/ncols)+1), title=f\"Epoch {i}\")\n",
    "    plt.imshow(generated_images[i][0, :, :, 0], cmap='gray_r')\n",
    "    plt.axis('off')\n"
   ]
  },
  {
   "cell_type": "code",
   "execution_count": null,
   "metadata": {},
   "outputs": [],
   "source": []
  }
 ],
 "metadata": {
  "interpreter": {
   "hash": "d6ce7daced66c1b43e67ee1266804bcc56425fa4e39cc8300d2c0d41d8b5ef83"
  },
  "kernelspec": {
   "display_name": "Python 3.9.7 64-bit ('ann': conda)",
   "language": "python",
   "name": "python3"
  },
  "language_info": {
   "codemirror_mode": {
    "name": "ipython",
    "version": 3
   },
   "file_extension": ".py",
   "mimetype": "text/x-python",
   "name": "python",
   "nbconvert_exporter": "python",
   "pygments_lexer": "ipython3",
   "version": "3.9.7"
  },
  "orig_nbformat": 4
 },
 "nbformat": 4,
 "nbformat_minor": 2
}
